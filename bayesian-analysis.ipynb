{
 "cells": [
  {
   "cell_type": "markdown",
   "metadata": {},
   "source": [
    "# Universal Pleasantness: Bayesian Modeling"
   ]
  },
  {
   "cell_type": "code",
   "execution_count": 2,
   "metadata": {},
   "outputs": [
    {
     "name": "stdout",
     "output_type": "stream",
     "text": [
      "The autoreload extension is already loaded. To reload it, use:\n",
      "  %reload_ext autoreload\n"
     ]
    }
   ],
   "source": [
    "%load_ext autoreload\n",
    "%autoreload 2\n",
    "%matplotlib inline\n",
    "from copy import copy\n",
    "import matplotlib.pyplot as plt\n",
    "\n",
    "import numpy as np\n",
    "import pandas as pd\n",
    "import pathlib\n",
    "import seaborn as sns\n",
    "from tqdm.auto import tqdm\n",
    "sns.set(font_scale=1.2)\n",
    "import univple as up"
   ]
  },
  {
   "cell_type": "markdown",
   "metadata": {},
   "source": [
    "### Load the data and show the ranking for each odorant"
   ]
  },
  {
   "cell_type": "code",
   "execution_count": 3,
   "metadata": {},
   "outputs": [
    {
     "data": {
      "text/html": [
       "<div>\n",
       "<style scoped>\n",
       "    .dataframe tbody tr th:only-of-type {\n",
       "        vertical-align: middle;\n",
       "    }\n",
       "\n",
       "    .dataframe tbody tr th {\n",
       "        vertical-align: top;\n",
       "    }\n",
       "\n",
       "    .dataframe thead th {\n",
       "        text-align: right;\n",
       "    }\n",
       "</style>\n",
       "<table border=\"1\" class=\"dataframe\">\n",
       "  <thead>\n",
       "    <tr style=\"text-align: right;\">\n",
       "      <th></th>\n",
       "      <th>OdorName</th>\n",
       "      <th>1-Octen-3-ol</th>\n",
       "      <th>2-Isobutyl-3-methoxypyrazine</th>\n",
       "      <th>2-Phenylethanol</th>\n",
       "      <th>Diethyl disulfide</th>\n",
       "      <th>Ethyl butyrate</th>\n",
       "      <th>Eugenol</th>\n",
       "      <th>Isovaleric acid</th>\n",
       "      <th>Linalool</th>\n",
       "      <th>Octanoic acid</th>\n",
       "      <th>Vanillin</th>\n",
       "    </tr>\n",
       "    <tr>\n",
       "      <th>Group</th>\n",
       "      <th>Participant</th>\n",
       "      <th></th>\n",
       "      <th></th>\n",
       "      <th></th>\n",
       "      <th></th>\n",
       "      <th></th>\n",
       "      <th></th>\n",
       "      <th></th>\n",
       "      <th></th>\n",
       "      <th></th>\n",
       "      <th></th>\n",
       "    </tr>\n",
       "  </thead>\n",
       "  <tbody>\n",
       "    <tr>\n",
       "      <th rowspan=\"5\" valign=\"top\">Cha'palaa</th>\n",
       "      <th>1</th>\n",
       "      <td>10</td>\n",
       "      <td>6</td>\n",
       "      <td>2</td>\n",
       "      <td>8</td>\n",
       "      <td>4</td>\n",
       "      <td>3</td>\n",
       "      <td>7</td>\n",
       "      <td>1</td>\n",
       "      <td>9</td>\n",
       "      <td>5</td>\n",
       "    </tr>\n",
       "    <tr>\n",
       "      <th>2</th>\n",
       "      <td>5</td>\n",
       "      <td>4</td>\n",
       "      <td>2</td>\n",
       "      <td>3</td>\n",
       "      <td>8</td>\n",
       "      <td>1</td>\n",
       "      <td>6</td>\n",
       "      <td>9</td>\n",
       "      <td>10</td>\n",
       "      <td>7</td>\n",
       "    </tr>\n",
       "    <tr>\n",
       "      <th>3</th>\n",
       "      <td>7</td>\n",
       "      <td>8</td>\n",
       "      <td>1</td>\n",
       "      <td>10</td>\n",
       "      <td>5</td>\n",
       "      <td>4</td>\n",
       "      <td>3</td>\n",
       "      <td>6</td>\n",
       "      <td>9</td>\n",
       "      <td>2</td>\n",
       "    </tr>\n",
       "    <tr>\n",
       "      <th>4</th>\n",
       "      <td>7</td>\n",
       "      <td>10</td>\n",
       "      <td>3</td>\n",
       "      <td>4</td>\n",
       "      <td>9</td>\n",
       "      <td>1</td>\n",
       "      <td>8</td>\n",
       "      <td>6</td>\n",
       "      <td>5</td>\n",
       "      <td>2</td>\n",
       "    </tr>\n",
       "    <tr>\n",
       "      <th>5</th>\n",
       "      <td>6</td>\n",
       "      <td>10</td>\n",
       "      <td>2</td>\n",
       "      <td>8</td>\n",
       "      <td>5</td>\n",
       "      <td>3</td>\n",
       "      <td>7</td>\n",
       "      <td>1</td>\n",
       "      <td>9</td>\n",
       "      <td>4</td>\n",
       "    </tr>\n",
       "  </tbody>\n",
       "</table>\n",
       "</div>"
      ],
      "text/plain": [
       "OdorName               1-Octen-3-ol  2-Isobutyl-3-methoxypyrazine  \\\n",
       "Group     Participant                                               \n",
       "Cha'palaa 1                      10                             6   \n",
       "          2                       5                             4   \n",
       "          3                       7                             8   \n",
       "          4                       7                            10   \n",
       "          5                       6                            10   \n",
       "\n",
       "OdorName               2-Phenylethanol  Diethyl disulfide  Ethyl butyrate  \\\n",
       "Group     Participant                                                       \n",
       "Cha'palaa 1                          2                  8               4   \n",
       "          2                          2                  3               8   \n",
       "          3                          1                 10               5   \n",
       "          4                          3                  4               9   \n",
       "          5                          2                  8               5   \n",
       "\n",
       "OdorName               Eugenol  Isovaleric acid  Linalool  Octanoic acid  \\\n",
       "Group     Participant                                                      \n",
       "Cha'palaa 1                  3                7         1              9   \n",
       "          2                  1                6         9             10   \n",
       "          3                  4                3         6              9   \n",
       "          4                  1                8         6              5   \n",
       "          5                  3                7         1              9   \n",
       "\n",
       "OdorName               Vanillin  \n",
       "Group     Participant            \n",
       "Cha'palaa 1                   5  \n",
       "          2                   7  \n",
       "          3                   2  \n",
       "          4                   2  \n",
       "          5                   4  "
      ]
     },
     "execution_count": 3,
     "metadata": {},
     "output_type": "execute_result"
    }
   ],
   "source": [
    "data = {}\n",
    "data['raw'], odorants = up.load_data()\n",
    "groups, group_ids = up.get_groups(data['raw'])\n",
    "data['raw'].head()  # First 5 rows"
   ]
  },
  {
   "cell_type": "markdown",
   "metadata": {},
   "source": [
    "### For modeling purposes, switch this to the odor index for rank 1, for rank 2, etc. for each subject"
   ]
  },
  {
   "cell_type": "code",
   "execution_count": 4,
   "metadata": {},
   "outputs": [
    {
     "data": {
      "text/html": [
       "<div>\n",
       "<style scoped>\n",
       "    .dataframe tbody tr th:only-of-type {\n",
       "        vertical-align: middle;\n",
       "    }\n",
       "\n",
       "    .dataframe tbody tr th {\n",
       "        vertical-align: top;\n",
       "    }\n",
       "\n",
       "    .dataframe thead th {\n",
       "        text-align: right;\n",
       "    }\n",
       "</style>\n",
       "<table border=\"1\" class=\"dataframe\">\n",
       "  <thead>\n",
       "    <tr style=\"text-align: right;\">\n",
       "      <th></th>\n",
       "      <th></th>\n",
       "      <th>1st</th>\n",
       "      <th>2nd</th>\n",
       "      <th>3rd</th>\n",
       "      <th>4th</th>\n",
       "      <th>5th</th>\n",
       "      <th>6th</th>\n",
       "      <th>7th</th>\n",
       "      <th>8th</th>\n",
       "      <th>9th</th>\n",
       "      <th>10th</th>\n",
       "    </tr>\n",
       "    <tr>\n",
       "      <th>Group</th>\n",
       "      <th>Participant</th>\n",
       "      <th></th>\n",
       "      <th></th>\n",
       "      <th></th>\n",
       "      <th></th>\n",
       "      <th></th>\n",
       "      <th></th>\n",
       "      <th></th>\n",
       "      <th></th>\n",
       "      <th></th>\n",
       "      <th></th>\n",
       "    </tr>\n",
       "  </thead>\n",
       "  <tbody>\n",
       "    <tr>\n",
       "      <th rowspan=\"5\" valign=\"top\">Cha'palaa</th>\n",
       "      <th>1</th>\n",
       "      <td>8</td>\n",
       "      <td>3</td>\n",
       "      <td>6</td>\n",
       "      <td>5</td>\n",
       "      <td>10</td>\n",
       "      <td>2</td>\n",
       "      <td>7</td>\n",
       "      <td>4</td>\n",
       "      <td>9</td>\n",
       "      <td>1</td>\n",
       "    </tr>\n",
       "    <tr>\n",
       "      <th>2</th>\n",
       "      <td>6</td>\n",
       "      <td>3</td>\n",
       "      <td>4</td>\n",
       "      <td>2</td>\n",
       "      <td>1</td>\n",
       "      <td>7</td>\n",
       "      <td>10</td>\n",
       "      <td>5</td>\n",
       "      <td>8</td>\n",
       "      <td>9</td>\n",
       "    </tr>\n",
       "    <tr>\n",
       "      <th>3</th>\n",
       "      <td>3</td>\n",
       "      <td>10</td>\n",
       "      <td>7</td>\n",
       "      <td>6</td>\n",
       "      <td>5</td>\n",
       "      <td>8</td>\n",
       "      <td>1</td>\n",
       "      <td>2</td>\n",
       "      <td>9</td>\n",
       "      <td>4</td>\n",
       "    </tr>\n",
       "    <tr>\n",
       "      <th>4</th>\n",
       "      <td>6</td>\n",
       "      <td>10</td>\n",
       "      <td>3</td>\n",
       "      <td>4</td>\n",
       "      <td>9</td>\n",
       "      <td>8</td>\n",
       "      <td>1</td>\n",
       "      <td>7</td>\n",
       "      <td>5</td>\n",
       "      <td>2</td>\n",
       "    </tr>\n",
       "    <tr>\n",
       "      <th>5</th>\n",
       "      <td>8</td>\n",
       "      <td>3</td>\n",
       "      <td>6</td>\n",
       "      <td>10</td>\n",
       "      <td>5</td>\n",
       "      <td>1</td>\n",
       "      <td>7</td>\n",
       "      <td>4</td>\n",
       "      <td>9</td>\n",
       "      <td>2</td>\n",
       "    </tr>\n",
       "  </tbody>\n",
       "</table>\n",
       "</div>"
      ],
      "text/plain": [
       "                       1st  2nd  3rd  4th  5th  6th  7th  8th  9th  10th\n",
       "Group     Participant                                                   \n",
       "Cha'palaa 1              8    3    6    5   10    2    7    4    9     1\n",
       "          2              6    3    4    2    1    7   10    5    8     9\n",
       "          3              3   10    7    6    5    8    1    2    9     4\n",
       "          4              6   10    3    4    9    8    1    7    5     2\n",
       "          5              8    3    6   10    5    1    7    4    9     2"
      ]
     },
     "execution_count": 4,
     "metadata": {},
     "output_type": "execute_result"
    }
   ],
   "source": [
    "data['ranked'], odorants = up.load_data(by='ranks')\n",
    "groups, group_ids = up.get_groups(data['ranked'])\n",
    "data['ranked'].head()  # First 5 rows"
   ]
  },
  {
   "cell_type": "markdown",
   "metadata": {},
   "source": [
    "### A Bayesian Model for Conducting the Same Analysis"
   ]
  },
  {
   "cell_type": "code",
   "execution_count": 5,
   "metadata": {},
   "outputs": [],
   "source": [
    "# Compile the model, written in Stan (a probabilistic programming language for fitting Bayesian models)\n",
    "model = up.load_or_compile_stan_model('univple')"
   ]
  },
  {
   "cell_type": "code",
   "execution_count": null,
   "metadata": {},
   "outputs": [
    {
     "data": {
      "application/vnd.jupyter.widget-view+json": {
       "model_id": "129ce280c26b4c07a31fc6b03f2db5f7",
       "version_major": 2,
       "version_minor": 0
      },
      "text/plain": [
       "HBox(children=(FloatProgress(value=0.0, max=4.0), HTML(value='')))"
      ]
     },
     "metadata": {},
     "output_type": "display_data"
    },
    {
     "name": "stdout",
     "output_type": "stream",
     "text": [
      "\n",
      "Gradient evaluation took 0.000629 seconds\n",
      "1000 transitions using 10 leapfrog steps per transition would take 6.29 seconds.\n",
      "Adjust your expectations accordingly!\n",
      "\n",
      "\n",
      "Iteration:     1 / 20000 [  0%]  (Warmup)\n"
     ]
    },
    {
     "name": "stderr",
     "output_type": "stream",
     "text": [
      "Informational Message: The current Metropolis proposal is about to be rejected because of the following issue:\n",
      "Exception: normal_lpdf: Scale parameter is 0, but must be > 0!  (in 'univple.stan' at line 52)\n",
      "\n",
      "If this warning occurs sporadically, such as for highly constrained variable types like covariance matrices, then the sampler is fine,\n",
      "but if this warning occurs often then your model may be either severely ill-conditioned or misspecified.\n",
      "\n"
     ]
    },
    {
     "name": "stdout",
     "output_type": "stream",
     "text": [
      "\n",
      "Gradient evaluation took 0.000673 seconds\n",
      "1000 transitions using 10 leapfrog steps per transition would take 6.73 seconds.\n",
      "Adjust your expectations accordingly!\n",
      "\n",
      "\n",
      "\n",
      "Gradient evaluation took 0.000792 seconds\n",
      "1000 transitions using 10 leapfrog steps per transition would take 7.92 seconds.\n",
      "Adjust your expectations accordingly!\n",
      "\n",
      "\n",
      "\n",
      "Gradient evaluation took 0.000643 seconds\n",
      "1000 transitions using 10 leapfrog steps per transition would take 6.43 seconds.\n",
      "Adjust your expectations accordingly!\n",
      "\n",
      "\n",
      "Iteration:     1 / 20000 [  0%]  (Warmup)\n",
      "Iteration:     1 / 20000 [  0%]  (Warmup)\n"
     ]
    },
    {
     "name": "stderr",
     "output_type": "stream",
     "text": [
      "Informational Message: The current Metropolis proposal is about to be rejected because of the following issue:\n",
      "Exception: normal_lpdf: Scale parameter is 0, but must be > 0!  (in 'univple.stan' at line 52)\n",
      "\n",
      "If this warning occurs sporadically, such as for highly constrained variable types like covariance matrices, then the sampler is fine,\n",
      "but if this warning occurs often then your model may be either severely ill-conditioned or misspecified.\n",
      "\n"
     ]
    },
    {
     "name": "stdout",
     "output_type": "stream",
     "text": [
      "Iteration:     1 / 20000 [  0%]  (Warmup)\n"
     ]
    },
    {
     "name": "stderr",
     "output_type": "stream",
     "text": [
      "Informational Message: The current Metropolis proposal is about to be rejected because of the following issue:\n",
      "Exception: normal_lpdf: Scale parameter is 0, but must be > 0!  (in 'univple.stan' at line 52)\n",
      "\n",
      "If this warning occurs sporadically, such as for highly constrained variable types like covariance matrices, then the sampler is fine,\n",
      "but if this warning occurs often then your model may be either severely ill-conditioned or misspecified.\n",
      "\n",
      "Informational Message: The current Metropolis proposal is about to be rejected because of the following issue:\n",
      "Exception: normal_lpdf: Scale parameter is 0, but must be > 0!  (in 'univple.stan' at line 48)\n",
      "\n",
      "If this warning occurs sporadically, such as for highly constrained variable types like covariance matrices, then the sampler is fine,\n",
      "but if this warning occurs often then your model may be either severely ill-conditioned or misspecified.\n",
      "\n",
      "Informational Message: The current Metropolis proposal is about to be rejected because of the following issue:\n",
      "Exception: normal_lpdf: Scale parameter is 0, but must be > 0!  (in 'univple.stan' at line 52)\n",
      "\n",
      "If this warning occurs sporadically, such as for highly constrained variable types like covariance matrices, then the sampler is fine,\n",
      "but if this warning occurs often then your model may be either severely ill-conditioned or misspecified.\n",
      "\n"
     ]
    },
    {
     "name": "stdout",
     "output_type": "stream",
     "text": [
      "Iteration:  2000 / 20000 [ 10%]  (Warmup)\n",
      "Iteration:  2000 / 20000 [ 10%]  (Warmup)\n",
      "Iteration:  2000 / 20000 [ 10%]  (Warmup)\n",
      "Iteration:  2000 / 20000 [ 10%]  (Warmup)\n",
      "Iteration:  4000 / 20000 [ 20%]  (Warmup)\n",
      "Iteration:  4000 / 20000 [ 20%]  (Warmup)\n",
      "Iteration:  4000 / 20000 [ 20%]  (Warmup)\n",
      "Iteration:  5001 / 20000 [ 25%]  (Sampling)\n",
      "Iteration:  4000 / 20000 [ 20%]  (Warmup)\n",
      "Iteration:  5001 / 20000 [ 25%]  (Sampling)\n",
      "Iteration:  5001 / 20000 [ 25%]  (Sampling)\n",
      "Iteration:  5001 / 20000 [ 25%]  (Sampling)\n",
      "Iteration:  7000 / 20000 [ 35%]  (Sampling)\n",
      "Iteration:  9000 / 20000 [ 45%]  (Sampling)\n",
      "Iteration:  7000 / 20000 [ 35%]  (Sampling)\n",
      "Iteration:  7000 / 20000 [ 35%]  (Sampling)\n",
      "Iteration: 11000 / 20000 [ 55%]  (Sampling)\n",
      "Iteration:  7000 / 20000 [ 35%]  (Sampling)\n",
      "Iteration: 13000 / 20000 [ 65%]  (Sampling)\n",
      "Iteration:  9000 / 20000 [ 45%]  (Sampling)\n",
      "Iteration:  9000 / 20000 [ 45%]  (Sampling)\n",
      "Iteration: 15000 / 20000 [ 75%]  (Sampling)\n",
      "Iteration: 11000 / 20000 [ 55%]  (Sampling)\n",
      "Iteration: 11000 / 20000 [ 55%]  (Sampling)\n",
      "Iteration:  9000 / 20000 [ 45%]  (Sampling)\n",
      "Iteration: 17000 / 20000 [ 85%]  (Sampling)\n",
      "Iteration: 13000 / 20000 [ 65%]  (Sampling)\n",
      "Iteration: 13000 / 20000 [ 65%]  (Sampling)\n",
      "Iteration: 19000 / 20000 [ 95%]  (Sampling)\n",
      "Iteration: 15000 / 20000 [ 75%]  (Sampling)\n",
      "Iteration: 20000 / 20000 [100%]  (Sampling)\n",
      "\n",
      " Elapsed Time: 1493.22 seconds (Warm-up)\n",
      "               4715.45 seconds (Sampling)\n",
      "               6208.68 seconds (Total)\n",
      "\n",
      "Iteration: 11000 / 20000 [ 55%]  (Sampling)\n",
      "Iteration: 17000 / 20000 [ 85%]  (Sampling)\n",
      "Iteration: 19000 / 20000 [ 95%]  (Sampling)\n",
      "Iteration: 15000 / 20000 [ 75%]  (Sampling)\n",
      "Iteration: 13000 / 20000 [ 65%]  (Sampling)\n",
      "Iteration: 20000 / 20000 [100%]  (Sampling)\n",
      "\n",
      " Elapsed Time: 1867.5 seconds (Warm-up)\n",
      "               5530.48 seconds (Sampling)\n",
      "               7397.99 seconds (Total)\n",
      "\n",
      "Iteration: 17000 / 20000 [ 85%]  (Sampling)\n",
      "Iteration: 15000 / 20000 [ 75%]  (Sampling)\n",
      "Iteration: 19000 / 20000 [ 95%]  (Sampling)\n",
      "Iteration: 20000 / 20000 [100%]  (Sampling)\n",
      "\n",
      " Elapsed Time: 1658.85 seconds (Warm-up)\n",
      "               7466.45 seconds (Sampling)\n",
      "               9125.3 seconds (Total)\n",
      "\n",
      "Iteration: 17000 / 20000 [ 85%]  (Sampling)\n",
      "Iteration: 19000 / 20000 [ 95%]  (Sampling)\n",
      "Iteration: 20000 / 20000 [100%]  (Sampling)\n",
      "\n",
      " Elapsed Time: 1769.23 seconds (Warm-up)\n",
      "               10461.7 seconds (Sampling)\n",
      "               12230.9 seconds (Total)\n",
      "\n"
     ]
    },
    {
     "name": "stderr",
     "output_type": "stream",
     "text": [
      "WARNING:pystan:n_eff / iter for parameter mu_ind[76,1] is 0.0007579380011969785!\n",
      "WARNING:pystan:n_eff / iter for parameter mu_ind[82,1] is 0.0009027088314101122!\n",
      "WARNING:pystan:n_eff / iter for parameter mu_ind[85,1] is 0.0009032526834723481!\n",
      "WARNING:pystan:n_eff / iter for parameter mu_ind[91,1] is 0.0009297541958978392!\n",
      "WARNING:pystan:n_eff / iter for parameter mu_ind[76,2] is 0.0009698114299354685!\n",
      "WARNING:pystan:n_eff / iter for parameter mu_ind[82,2] is 0.000977185856698523!\n",
      "WARNING:pystan:n_eff / iter for parameter mu_ind[84,2] is 0.0009391822987349584!\n",
      "WARNING:pystan:n_eff / iter for parameter mu_ind[90,2] is 0.0008697171231123484!\n",
      "WARNING:pystan:n_eff / iter for parameter mu_ind[81,3] is 0.0009940930886984634!\n",
      "WARNING:pystan:n_eff / iter for parameter mu_ind[83,3] is 0.0008613998886733785!\n",
      "WARNING:pystan:n_eff / iter for parameter mu_ind[84,3] is 0.0009124021011673126!\n",
      "WARNING:pystan:n_eff / iter for parameter mu_ind[89,3] is 0.0009453896280030499!\n",
      "WARNING:pystan:n_eff / iter for parameter mu_ind[77,4] is 0.0009785243434168498!\n",
      "WARNING:pystan:n_eff / iter for parameter mu_ind[88,4] is 0.0009483769658705963!\n",
      "WARNING:pystan:n_eff / iter for parameter mu_ind[76,5] is 0.0009770352328293862!\n",
      "WARNING:pystan:n_eff / iter for parameter mu_ind[79,5] is 0.0008621995686095819!\n",
      "WARNING:pystan:n_eff / iter for parameter mu_ind[81,5] is 0.0008751304530809641!\n",
      "WARNING:pystan:n_eff / iter for parameter mu_ind[82,5] is 0.0009380604015449951!\n",
      "WARNING:pystan:n_eff / iter for parameter mu_ind[86,5] is 0.0009136510631870856!\n",
      "WARNING:pystan:n_eff / iter for parameter mu_ind[76,6] is 0.000816052683744198!\n",
      "WARNING:pystan:n_eff / iter for parameter mu_ind[80,6] is 0.0008668360698736025!\n",
      "WARNING:pystan:n_eff / iter for parameter mu_ind[81,6] is 0.0009826961587644906!\n",
      "WARNING:pystan:n_eff / iter for parameter mu_ind[84,6] is 0.0009843517493928896!\n",
      "WARNING:pystan:n_eff / iter for parameter mu_ind[85,6] is 0.0009604073002921205!\n",
      "WARNING:pystan:n_eff / iter for parameter mu_ind[87,6] is 0.0009297837186959449!\n",
      "WARNING:pystan:n_eff / iter for parameter mu_ind[90,6] is 0.0008849725068727932!\n",
      "WARNING:pystan:n_eff / iter for parameter mu_ind[91,6] is 0.0008995199811812114!\n",
      "WARNING:pystan:n_eff / iter for parameter mu_ind[76,7] is 0.0007546782623570759!\n",
      "WARNING:pystan:n_eff / iter for parameter mu_ind[77,7] is 0.0009657421060974669!\n",
      "WARNING:pystan:n_eff / iter for parameter mu_ind[86,7] is 0.0009631745010122016!\n",
      "WARNING:pystan:n_eff / iter for parameter mu_ind[88,7] is 0.0008740355278581243!\n",
      "WARNING:pystan:n_eff / iter for parameter mu_ind[89,7] is 0.0009114241986734432!\n",
      "WARNING:pystan:n_eff / iter for parameter mu_ind[79,8] is 0.0009061016797862604!\n",
      "WARNING:pystan:n_eff / iter for parameter mu_ind[87,8] is 0.0009947862167409207!\n",
      "WARNING:pystan:n_eff / iter for parameter mu_ind[90,8] is 0.0008317884284860897!\n",
      "WARNING:pystan:n_eff / iter for parameter mu_ind[78,9] is 0.0009311501902209452!\n",
      "WARNING:pystan:n_eff / iter for parameter mu_ind[81,9] is 0.0009132889559364969!\n",
      "WARNING:pystan:n_eff / iter for parameter mu_ind[83,9] is 0.000956581051354204!\n",
      "WARNING:pystan:n_eff / iter for parameter mu_ind[90,9] is 0.0009423676095598975!\n",
      "WARNING:pystan:n_eff / iter for parameter mu_ind[77,10] is 0.0009091306186530979!\n",
      "WARNING:pystan:n_eff / iter for parameter mu_ind[79,10] is 0.0009560926495875709!\n",
      "WARNING:pystan:n_eff / iter for parameter mu_ind[80,10] is 0.0008969272392051966!\n",
      "WARNING:pystan:n_eff / iter for parameter mu_ind[83,10] is 0.0009075569371221962!\n",
      "WARNING:pystan:n_eff / iter for parameter mu_ind[88,10] is 0.0009536404550675602!\n",
      "WARNING:pystan:n_eff / iter for parameter mu_ind[89,10] is 0.0009816703050263818!\n",
      "WARNING:pystan:n_eff / iter for parameter sigma_ind[4] is 0.0007216321952266825!\n",
      "WARNING:pystan:n_eff / iter below 0.001 indicates that the effective sample size has likely been overestimated\n",
      "WARNING:pystan:320 of 60000 iterations ended with a divergence (0.5333333333333333%).\n",
      "WARNING:pystan:Try running with adapt_delta larger than 0.85 to remove the divergences.\n",
      "WARNING:pystan:Chain 1: E-BFMI = 0.01068103765732444\n",
      "WARNING:pystan:Chain 2: E-BFMI = 0.015910207826775817\n",
      "WARNING:pystan:Chain 3: E-BFMI = 0.009677039933646282\n",
      "WARNING:pystan:Chain 4: E-BFMI = 0.010603206910259969\n",
      "WARNING:pystan:E-BFMI below 0.2 indicates you may need to reparameterize your model\n"
     ]
    }
   ],
   "source": [
    "# Create shuffles to be modeled as well.\n",
    "shuffles = ['odors-within-culture', 'individuals', 'odors']\n",
    "for shuffle in shuffles:\n",
    "    data['shuffle-%s' % shuffle] = up.shuffle_data(data['ranked'], groups, shuffle)\n",
    "\n",
    "# Fit the model to the real data and to the shuffled data\n",
    "samples = {}\n",
    "for shuffle in tqdm(['ranked'] + ['shuffle-%s' % shuffle for shuffle in shuffles]):\n",
    "    %time samples[shuffle] = up.load_or_sample(model, data[shuffle], shuffle)"
   ]
  },
  {
   "cell_type": "code",
   "execution_count": null,
   "metadata": {},
   "outputs": [],
   "source": [
    "# Check if independent sampling chains (runs with different random starting points) agree on global odorant valences\n",
    "# If each odorant produces 4 almost perfectly overlapping histograms,\n",
    "# then the fit went well\n",
    "up.plot_global_agreement(samples, odorants)"
   ]
  },
  {
   "cell_type": "markdown",
   "metadata": {},
   "source": [
    "### Model Consistency Check: Estimated valences and observed ranks are almost perfectly anti-correlated at the individual level (i.e. a high valence is a low (e.g. 1) rank."
   ]
  },
  {
   "cell_type": "code",
   "execution_count": null,
   "metadata": {},
   "outputs": [],
   "source": [
    "# Distribution of individual-level Pearson Correlation between observed rankings\n",
    "# and estimated latent valences.  Should be close to -1\n",
    "# (since lower ranking is more pleasant, but higher rating is more pleasant).\n",
    "# Differs from exactly -1 due to a) the switch between a cardinal and ordinal measure\n",
    "# and b) the denoising applied by the model\n",
    "up.ranks_vs_values(samples, groups)"
   ]
  },
  {
   "cell_type": "markdown",
   "metadata": {},
   "source": [
    "### Show how the group mean valences for each odorant compare.  Order by global mean valence."
   ]
  },
  {
   "cell_type": "code",
   "execution_count": null,
   "metadata": {},
   "outputs": [],
   "source": [
    "up.plot_global_means(groups, odorants, samples)"
   ]
  },
  {
   "cell_type": "markdown",
   "metadata": {},
   "source": [
    "### Estimate contributions of each factor using the Bayesian model."
   ]
  },
  {
   "cell_type": "code",
   "execution_count": null,
   "metadata": {},
   "outputs": [],
   "source": [
    "up.plot_sigmas(samples, groups)"
   ]
  },
  {
   "cell_type": "markdown",
   "metadata": {},
   "source": [
    "### Verify that when the model is applied to the shuffled ranks, the contribution of global valence disappears."
   ]
  },
  {
   "cell_type": "code",
   "execution_count": null,
   "metadata": {},
   "outputs": [],
   "source": [
    "up.plot_sigmas(samples_group_shuffle, groups)"
   ]
  },
  {
   "cell_type": "markdown",
   "metadata": {},
   "source": [
    "### Valences are very highly correlated across groups (different groups ranks things similarly), but odorants are not really correlated with one another (how a group ranks one odorant does not closely predict how it will rank another odorant)"
   ]
  },
  {
   "cell_type": "code",
   "execution_count": null,
   "metadata": {},
   "outputs": [],
   "source": [
    "up.get_means(samples, groups, odorants, 'mu_group')"
   ]
  },
  {
   "cell_type": "code",
   "execution_count": null,
   "metadata": {},
   "outputs": [],
   "source": [
    "up.corr_heatmaps(samples, groups, odorants)"
   ]
  },
  {
   "cell_type": "markdown",
   "metadata": {},
   "source": [
    "### For the shuffle control, this correlation structure (among groups) disappears"
   ]
  },
  {
   "cell_type": "code",
   "execution_count": null,
   "metadata": {},
   "outputs": [],
   "source": [
    "up.corr_heatmaps(samples_group_shuffle, groups, odorants)"
   ]
  },
  {
   "cell_type": "markdown",
   "metadata": {},
   "source": [
    "### PCA shows that there is really only one principal component explaining most of the variance in cross-cultural odor ranking.  Operating in the other direction, on odorants, shows a higher-dimensional structure (recapitulates the point in the figures above)."
   ]
  },
  {
   "cell_type": "code",
   "execution_count": null,
   "metadata": {},
   "outputs": [],
   "source": [
    "up.plot_var_explained(samples, groups, odorants)"
   ]
  },
  {
   "cell_type": "markdown",
   "metadata": {},
   "source": [
    "### The model estimates the intra-group standard deviations"
   ]
  },
  {
   "cell_type": "code",
   "execution_count": null,
   "metadata": {},
   "outputs": [],
   "source": [
    "# Individual variability within a group\n",
    "intragroup_std = pd.Series([samples['sigma_ind[%d]' % x].mean() for x in range(1, len(groups)+1)], index=groups)\n",
    "intragroup_std.sort_values().to_frame(name='Standard Deviation across Individuals').round(1)"
   ]
  },
  {
   "cell_type": "markdown",
   "metadata": {},
   "source": [
    "### We can examine this more closely for each group, looking at the correlation in estimated odorant valences between individuals.  This shows that the Maniq are ranking in a way which is indistinguishable from random (red dashed line, KS-test p-value shown)"
   ]
  },
  {
   "cell_type": "code",
   "execution_count": null,
   "metadata": {},
   "outputs": [],
   "source": [
    "up.plot_ind_corrs(data, samples, groups, odorants)"
   ]
  },
  {
   "cell_type": "markdown",
   "metadata": {},
   "source": [
    "### We can look at the groups in a reduced dimension using PCA (big dots are group means, little dots are individuals; many individuals are far away from the mean, illustrating that individual variability (and noise) is large compared to the differences between groups."
   ]
  },
  {
   "cell_type": "code",
   "execution_count": null,
   "metadata": {},
   "outputs": [],
   "source": [
    "up.plot_all_individuals(samples, groups, group_ids, odorants)"
   ]
  },
  {
   "cell_type": "markdown",
   "metadata": {},
   "source": [
    "### We can then partition the groups into supergroups and ask if these supergroups explain the observed group structure"
   ]
  },
  {
   "cell_type": "code",
   "execution_count": null,
   "metadata": {},
   "outputs": [],
   "source": [
    "supergroups = {'subsistence': {'Industrial': ['New York City', 'Thai', 'Mexican'],\n",
    "                               'Agricultural': ['Semelai', 'Mah Meri', \"Cha'palaa\", 'Imbabura Quechua'],\n",
    "                               'Hunter-gatherer': ['Maniq', 'Semaq Beri', 'Seri']},\n",
    "               'geography': {'North America': ['New York City', 'Seri', 'Mexican'],\n",
    "                             'South America': [\"Cha'palaa\", 'Imbabura Quechua'],\n",
    "                              'Asia': ['Semelai', 'Mah Meri', 'Maniq', 'Semaq Beri', 'Thai']}}"
   ]
  },
  {
   "cell_type": "code",
   "execution_count": null,
   "metadata": {},
   "outputs": [],
   "source": [
    "# Plot using PCA as above\n",
    "up.plot_supergroups(samples, groups, odorants, supergroups, method='PCA')"
   ]
  },
  {
   "cell_type": "code",
   "execution_count": null,
   "metadata": {},
   "outputs": [],
   "source": [
    "# Plot using Multidimensional Scaling, another dimensionality reduction strategy\n",
    "up.plot_supergroups(samples, groups, odorants, supergroups, method='MDS')"
   ]
  },
  {
   "cell_type": "markdown",
   "metadata": {},
   "source": [
    "### We next ask whether certain supergroups summarize the group structure.  We compare these groups to random group assignments of the same size to get p-values"
   ]
  },
  {
   "cell_type": "code",
   "execution_count": null,
   "metadata": {},
   "outputs": [],
   "source": [
    "supergroup_stats = up.get_supergroup_stats(samples, groups, odorants, supergroups)\n",
    "supergroup_stats.to_frame(name='p')"
   ]
  }
 ],
 "metadata": {
  "kernelspec": {
   "display_name": "Python 3",
   "language": "python",
   "name": "python3"
  },
  "language_info": {
   "codemirror_mode": {
    "name": "ipython",
    "version": 3
   },
   "file_extension": ".py",
   "mimetype": "text/x-python",
   "name": "python",
   "nbconvert_exporter": "python",
   "pygments_lexer": "ipython3",
   "version": "3.8.3"
  }
 },
 "nbformat": 4,
 "nbformat_minor": 4
}
