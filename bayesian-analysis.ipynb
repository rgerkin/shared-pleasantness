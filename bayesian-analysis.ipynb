{
 "cells": [
  {
   "cell_type": "markdown",
   "metadata": {},
   "source": [
    "# Universal Pleasantness: Bayesian Modeling"
   ]
  },
  {
   "cell_type": "code",
   "execution_count": 2,
   "metadata": {},
   "outputs": [],
   "source": [
    "%load_ext autoreload\n",
    "%autoreload 2\n",
    "%matplotlib inline\n",
    "from copy import copy\n",
    "import os\n",
    "os.environ['OUTDATED_IGNORE']='1'\n",
    "import matplotlib.pyplot as plt\n",
    "\n",
    "import numpy as np\n",
    "import pandas as pd\n",
    "import pathlib\n",
    "import seaborn as sns\n",
    "from tqdm.auto import tqdm\n",
    "sns.set(font_scale=1.2)\n",
    "import univple as up"
   ]
  },
  {
   "cell_type": "markdown",
   "metadata": {},
   "source": [
    "## Load the data and show the ranking for each odorant"
   ]
  },
  {
   "cell_type": "code",
   "execution_count": 3,
   "metadata": {},
   "outputs": [
    {
     "data": {
      "text/html": [
       "<div>\n",
       "<style scoped>\n",
       "    .dataframe tbody tr th:only-of-type {\n",
       "        vertical-align: middle;\n",
       "    }\n",
       "\n",
       "    .dataframe tbody tr th {\n",
       "        vertical-align: top;\n",
       "    }\n",
       "\n",
       "    .dataframe thead th {\n",
       "        text-align: right;\n",
       "    }\n",
       "</style>\n",
       "<table border=\"1\" class=\"dataframe\">\n",
       "  <thead>\n",
       "    <tr style=\"text-align: right;\">\n",
       "      <th></th>\n",
       "      <th>OdorName</th>\n",
       "      <th>1-Octen-3-ol</th>\n",
       "      <th>2-Isobutyl-3-methoxypyrazine</th>\n",
       "      <th>2-Phenylethanol</th>\n",
       "      <th>Diethyl disulfide</th>\n",
       "      <th>Ethyl butyrate</th>\n",
       "      <th>Eugenol</th>\n",
       "      <th>Isovaleric acid</th>\n",
       "      <th>Linalool</th>\n",
       "      <th>Octanoic acid</th>\n",
       "      <th>Vanillin</th>\n",
       "    </tr>\n",
       "    <tr>\n",
       "      <th>Group</th>\n",
       "      <th>Participant</th>\n",
       "      <th></th>\n",
       "      <th></th>\n",
       "      <th></th>\n",
       "      <th></th>\n",
       "      <th></th>\n",
       "      <th></th>\n",
       "      <th></th>\n",
       "      <th></th>\n",
       "      <th></th>\n",
       "      <th></th>\n",
       "    </tr>\n",
       "  </thead>\n",
       "  <tbody>\n",
       "    <tr>\n",
       "      <th rowspan=\"5\" valign=\"top\">American</th>\n",
       "      <th>1</th>\n",
       "      <td>1</td>\n",
       "      <td>6</td>\n",
       "      <td>1</td>\n",
       "      <td>8</td>\n",
       "      <td>9</td>\n",
       "      <td>3</td>\n",
       "      <td>10</td>\n",
       "      <td>5</td>\n",
       "      <td>7</td>\n",
       "      <td>4</td>\n",
       "    </tr>\n",
       "    <tr>\n",
       "      <th>2</th>\n",
       "      <td>6</td>\n",
       "      <td>8</td>\n",
       "      <td>5</td>\n",
       "      <td>9</td>\n",
       "      <td>1</td>\n",
       "      <td>4</td>\n",
       "      <td>9</td>\n",
       "      <td>3</td>\n",
       "      <td>7</td>\n",
       "      <td>2</td>\n",
       "    </tr>\n",
       "    <tr>\n",
       "      <th>3</th>\n",
       "      <td>5</td>\n",
       "      <td>3</td>\n",
       "      <td>4</td>\n",
       "      <td>6</td>\n",
       "      <td>7</td>\n",
       "      <td>1</td>\n",
       "      <td>8</td>\n",
       "      <td>2</td>\n",
       "      <td>10</td>\n",
       "      <td>9</td>\n",
       "    </tr>\n",
       "    <tr>\n",
       "      <th>4</th>\n",
       "      <td>4</td>\n",
       "      <td>8</td>\n",
       "      <td>2</td>\n",
       "      <td>7</td>\n",
       "      <td>1</td>\n",
       "      <td>6</td>\n",
       "      <td>10</td>\n",
       "      <td>5</td>\n",
       "      <td>9</td>\n",
       "      <td>3</td>\n",
       "    </tr>\n",
       "    <tr>\n",
       "      <th>5</th>\n",
       "      <td>4</td>\n",
       "      <td>6</td>\n",
       "      <td>9</td>\n",
       "      <td>7</td>\n",
       "      <td>3</td>\n",
       "      <td>1</td>\n",
       "      <td>10</td>\n",
       "      <td>5</td>\n",
       "      <td>8</td>\n",
       "      <td>2</td>\n",
       "    </tr>\n",
       "  </tbody>\n",
       "</table>\n",
       "</div>"
      ],
      "text/plain": [
       "OdorName              1-Octen-3-ol  2-Isobutyl-3-methoxypyrazine  \\\n",
       "Group    Participant                                               \n",
       "American 1                       1                             6   \n",
       "         2                       6                             8   \n",
       "         3                       5                             3   \n",
       "         4                       4                             8   \n",
       "         5                       4                             6   \n",
       "\n",
       "OdorName              2-Phenylethanol  Diethyl disulfide  Ethyl butyrate  \\\n",
       "Group    Participant                                                       \n",
       "American 1                          1                  8               9   \n",
       "         2                          5                  9               1   \n",
       "         3                          4                  6               7   \n",
       "         4                          2                  7               1   \n",
       "         5                          9                  7               3   \n",
       "\n",
       "OdorName              Eugenol  Isovaleric acid  Linalool  Octanoic acid  \\\n",
       "Group    Participant                                                      \n",
       "American 1                  3               10         5              7   \n",
       "         2                  4                9         3              7   \n",
       "         3                  1                8         2             10   \n",
       "         4                  6               10         5              9   \n",
       "         5                  1               10         5              8   \n",
       "\n",
       "OdorName              Vanillin  \n",
       "Group    Participant            \n",
       "American 1                   4  \n",
       "         2                   2  \n",
       "         3                   9  \n",
       "         4                   3  \n",
       "         5                   2  "
      ]
     },
     "execution_count": 3,
     "metadata": {},
     "output_type": "execute_result"
    }
   ],
   "source": [
    "data = {}\n",
    "data['raw'], odorants = up.load_data()\n",
    "groups, group_ids = up.get_groups(data['raw'])\n",
    "data['raw'].head()  # First 5 rows"
   ]
  },
  {
   "cell_type": "markdown",
   "metadata": {},
   "source": [
    "## For modeling purposes, switch this to the odor index for rank 1, for rank 2, etc. for each subject"
   ]
  },
  {
   "cell_type": "code",
   "execution_count": 4,
   "metadata": {},
   "outputs": [
    {
     "data": {
      "text/html": [
       "<div>\n",
       "<style scoped>\n",
       "    .dataframe tbody tr th:only-of-type {\n",
       "        vertical-align: middle;\n",
       "    }\n",
       "\n",
       "    .dataframe tbody tr th {\n",
       "        vertical-align: top;\n",
       "    }\n",
       "\n",
       "    .dataframe thead th {\n",
       "        text-align: right;\n",
       "    }\n",
       "</style>\n",
       "<table border=\"1\" class=\"dataframe\">\n",
       "  <thead>\n",
       "    <tr style=\"text-align: right;\">\n",
       "      <th></th>\n",
       "      <th></th>\n",
       "      <th>1st</th>\n",
       "      <th>2nd</th>\n",
       "      <th>3rd</th>\n",
       "      <th>4th</th>\n",
       "      <th>5th</th>\n",
       "      <th>6th</th>\n",
       "      <th>7th</th>\n",
       "      <th>8th</th>\n",
       "      <th>9th</th>\n",
       "      <th>10th</th>\n",
       "    </tr>\n",
       "    <tr>\n",
       "      <th>Group</th>\n",
       "      <th>Participant</th>\n",
       "      <th></th>\n",
       "      <th></th>\n",
       "      <th></th>\n",
       "      <th></th>\n",
       "      <th></th>\n",
       "      <th></th>\n",
       "      <th></th>\n",
       "      <th></th>\n",
       "      <th></th>\n",
       "      <th></th>\n",
       "    </tr>\n",
       "  </thead>\n",
       "  <tbody>\n",
       "    <tr>\n",
       "      <th rowspan=\"5\" valign=\"top\">American</th>\n",
       "      <th>1</th>\n",
       "      <td>1</td>\n",
       "      <td>3</td>\n",
       "      <td>6</td>\n",
       "      <td>10</td>\n",
       "      <td>8</td>\n",
       "      <td>2</td>\n",
       "      <td>9</td>\n",
       "      <td>4</td>\n",
       "      <td>5</td>\n",
       "      <td>7</td>\n",
       "    </tr>\n",
       "    <tr>\n",
       "      <th>2</th>\n",
       "      <td>5</td>\n",
       "      <td>10</td>\n",
       "      <td>8</td>\n",
       "      <td>6</td>\n",
       "      <td>3</td>\n",
       "      <td>1</td>\n",
       "      <td>9</td>\n",
       "      <td>2</td>\n",
       "      <td>4</td>\n",
       "      <td>7</td>\n",
       "    </tr>\n",
       "    <tr>\n",
       "      <th>3</th>\n",
       "      <td>6</td>\n",
       "      <td>8</td>\n",
       "      <td>2</td>\n",
       "      <td>3</td>\n",
       "      <td>1</td>\n",
       "      <td>4</td>\n",
       "      <td>5</td>\n",
       "      <td>7</td>\n",
       "      <td>10</td>\n",
       "      <td>9</td>\n",
       "    </tr>\n",
       "    <tr>\n",
       "      <th>4</th>\n",
       "      <td>5</td>\n",
       "      <td>3</td>\n",
       "      <td>10</td>\n",
       "      <td>1</td>\n",
       "      <td>8</td>\n",
       "      <td>6</td>\n",
       "      <td>4</td>\n",
       "      <td>2</td>\n",
       "      <td>9</td>\n",
       "      <td>7</td>\n",
       "    </tr>\n",
       "    <tr>\n",
       "      <th>5</th>\n",
       "      <td>6</td>\n",
       "      <td>10</td>\n",
       "      <td>5</td>\n",
       "      <td>1</td>\n",
       "      <td>8</td>\n",
       "      <td>2</td>\n",
       "      <td>4</td>\n",
       "      <td>9</td>\n",
       "      <td>3</td>\n",
       "      <td>7</td>\n",
       "    </tr>\n",
       "  </tbody>\n",
       "</table>\n",
       "</div>"
      ],
      "text/plain": [
       "                      1st  2nd  3rd  4th  5th  6th  7th  8th  9th  10th\n",
       "Group    Participant                                                   \n",
       "American 1              1    3    6   10    8    2    9    4    5     7\n",
       "         2              5   10    8    6    3    1    9    2    4     7\n",
       "         3              6    8    2    3    1    4    5    7   10     9\n",
       "         4              5    3   10    1    8    6    4    2    9     7\n",
       "         5              6   10    5    1    8    2    4    9    3     7"
      ]
     },
     "execution_count": 4,
     "metadata": {},
     "output_type": "execute_result"
    }
   ],
   "source": [
    "data['ranked'], odorants = up.load_data(by='ranks')\n",
    "groups, group_ids = up.get_groups(data['ranked'])\n",
    "data['ranked'].head()  # First 5 rows"
   ]
  },
  {
   "cell_type": "code",
   "execution_count": 5,
   "metadata": {},
   "outputs": [],
   "source": [
    "# Reset subject indices for Maniq to be ascending integers from 1 to make modeling easier\n",
    "z = data['ranked'].reset_index()\n",
    "n_maniq = (z['Group']=='Maniq').sum()\n",
    "z.loc[z['Group']=='Maniq', 'Participant'] = range(1, n_maniq+1)\n",
    "data['ranked'] = z.set_index(['Group', 'Participant']).sort_index()"
   ]
  },
  {
   "cell_type": "markdown",
   "metadata": {},
   "source": [
    "### Generate pseudo-replicates based on lab test/retest"
   ]
  },
  {
   "cell_type": "code",
   "execution_count": 5,
   "metadata": {},
   "outputs": [
    {
     "data": {
      "text/plain": [
       "0.8666666666666667"
      ]
     },
     "execution_count": 5,
     "metadata": {},
     "output_type": "execute_result"
    }
   ],
   "source": [
    "cols = ['Rater', 'Rep1', 'Rep2']\n",
    "ttr = pd.read_csv('data/UniversalPleasantnessMainlandLabRanking.csv').set_index('CID')[cols]\n",
    "rater_corrs = ttr.groupby('Rater').corr(method='kendall').unstack()[('Rep1', 'Rep2')]\n",
    "target_tau = rater_corrs.median()\n",
    "target_tau"
   ]
  },
  {
   "cell_type": "code",
   "execution_count": 6,
   "metadata": {},
   "outputs": [
    {
     "data": {
      "application/vnd.jupyter.widget-view+json": {
       "model_id": "8a918c5b00794da3b200cfd16ea57aa0",
       "version_major": 2,
       "version_minor": 0
      },
      "text/plain": [
       "  0%|          | 0/250 [00:00<?, ?it/s]"
      ]
     },
     "metadata": {},
     "output_type": "display_data"
    },
    {
     "data": {
      "image/png": "[encoded data removed]",
      "text/plain": [
       "<Figure size 432x288 with 1 Axes>"
      ]
     },
     "metadata": {},
     "output_type": "display_data"
    }
   ],
   "source": [
    "# Obtain the value of added rank noise that achieves\n",
    "# the lab value of Kendall's tau\n",
    "taus = pd.Series(index=np.logspace(-1.5, 2.5, 250), dtype=float)\n",
    "pseudo_rep = data['raw'].stack().to_frame(name='Rep1')\n",
    "for sigma in tqdm(taus.index):\n",
    "    rank_noise = sigma*np.random.randn(*data['raw'].shape)\n",
    "    reranked = (data['raw']+rank_noise).rank(axis=1).astype(int)\n",
    "    pseudo_rep['Rep2'] = reranked.stack()\n",
    "    kt = pseudo_rep.groupby(['Group', 'Participant']).corr(method='kendall')\n",
    "    taus[sigma] = kt.unstack()[('Rep1', 'Rep2')].mean()\n",
    "\n",
    "from scipy.optimize import curve_fit\n",
    "from scipy.special import expit\n",
    "def sigmoid(x, slope, midpoint):\n",
    "    return expit(slope*(midpoint-np.log10(x)))\n",
    "\n",
    "taus.plot(label='Simulated')\n",
    "params, _ = curve_fit(sigmoid, taus.index, taus.values)\n",
    "fitted_taus = pd.Series(sigmoid(taus.index, *params),\n",
    "                        index=taus.index)\n",
    "fitted_taus.plot(label='Fit')\n",
    "sorted_taus = taus.copy().sort_values()\n",
    "sorted_taus.index = taus.index[::-1]\n",
    "idx = sorted_taus.searchsorted(target_tau)\n",
    "target_sigma = sorted_taus.index[idx]\n",
    "\n",
    "plt.xscale('log')\n",
    "plt.xlabel('Rank Noise')\n",
    "plt.ylabel(r\"Kendall's $\\tau$\")\n",
    "plt.axhline(target_tau, linestyle='--', color='k', label=r\"Median Kendall's $\\tau$ (Lab)\")\n",
    "plt.axvline(target_sigma, linestyle='-.', color='k', label='Estimated Rank Noise (Lab)')\n",
    "plt.legend();"
   ]
  },
  {
   "cell_type": "code",
   "execution_count": 7,
   "metadata": {},
   "outputs": [],
   "source": [
    "# Create these pseudo-replicates from this rank noise\n",
    "while True:\n",
    "    pseudo_rep = data['raw'].stack().to_frame(name='Rep1')\n",
    "    rank_noise = target_sigma*np.random.randn(*data['raw'].shape)\n",
    "    reranked = (data['raw']+rank_noise).rank(axis=1).astype(int)\n",
    "    pseudo_rep['Rep2'] = reranked.stack()\n",
    "    kt = pseudo_rep.groupby(['Group', 'Participant']).corr(method='kendall')\n",
    "    achieved_tau = kt.unstack()[('Rep1', 'Rep2')].mean()\n",
    "    if 0.99 < achieved_tau/target_tau < 1.01:\n",
    "        break\n",
    "pseudo_rep.columns.name = 'Rep'\n",
    "data['raw-pseudo-replicated'] = pseudo_rep.stack('Rep').unstack('OdorName')"
   ]
  },
  {
   "cell_type": "code",
   "execution_count": 8,
   "metadata": {},
   "outputs": [],
   "source": [
    "# Create a new ranks dataframe with the original ranks\n",
    "# and the pseudo-replicated ranks\n",
    "reps = []\n",
    "for i in [1, 2]:\n",
    "    raw = pseudo_rep['Rep%d' % i].unstack('OdorName')\n",
    "    ranked = raw.apply(np.argsort, axis=1)+1\n",
    "    ranked.columns = ranked.columns = \\\n",
    "                        ['1st', '2nd', '3rd'] + \\\n",
    "                        ['%dth' % x for x in range(4, 11)]\n",
    "    reps.append(ranked)\n",
    "# Make sure at least the first one unpacked correctly\n",
    "assert up.load_data(by='ranks')[0].equals(reps[0])\n",
    "data['ranked-pseudo-replicated'] = pd.concat(reps)"
   ]
  },
  {
   "cell_type": "code",
   "execution_count": 9,
   "metadata": {},
   "outputs": [],
   "source": [
    "data['ranked-replicate-cloned'] = pd.concat([data['ranked'], data['ranked']])\n",
    "data['shuffle-swap'] = up.shuffle_data(data['ranked'], groups, 'swap-individuals-within-culture')\n",
    "data['ranked-replicate-swap'] = pd.concat([data['ranked'], data['shuffle-swap']])"
   ]
  },
  {
   "cell_type": "markdown",
   "metadata": {},
   "source": [
    "### Estimating only the variance components without fitting the model to get all the coefficients"
   ]
  },
  {
   "cell_type": "code",
   "execution_count": 10,
   "metadata": {},
   "outputs": [],
   "source": [
    "def make_synthetic(df, sigma_odor=3, sigma_group=1,\n",
    "                   sigma_ind=3, sigma_noise=1):\n",
    "    group_d = pd.get_dummies(df.index.get_level_values('Group'))\n",
    "    ind_d = pd.get_dummies(df.index.droplevel('Rep').map(str))\n",
    "\n",
    "    n_odors = df.shape[1]\n",
    "    n_groups = group_d.shape[1]\n",
    "    n_ind = ind_d.shape[1]\n",
    "    n_trials = df.shape[0]\n",
    "    \n",
    "    odor_c = sigma_odor*np.random.randn(n_odors)\n",
    "    group_c = sigma_group*np.random.randn(n_groups, n_odors)\n",
    "    ind_c = sigma_ind*np.random.randn(n_ind, n_odors)\n",
    "    noise = sigma_noise*np.random.randn(n_trials, n_odors)\n",
    "    \n",
    "    w = odor_c + group_d @ group_c + ind_d @ ind_c + noise\n",
    "    w.columns = df.columns\n",
    "    w.index = df.index\n",
    "    return w.rank(axis=1)\n",
    "    \n",
    "data['synthetic'] = make_synthetic(data['raw-pseudo-replicated'])"
   ]
  },
  {
   "cell_type": "code",
   "execution_count": 11,
   "metadata": {},
   "outputs": [
    {
     "data": {
      "text/plain": [
       "(array([2.24105205, 2.20344531, 0.75326005]),\n",
       " array([2.4550545 , 2.35840215, 0.91378753]))"
      ]
     },
     "execution_count": 11,
     "metadata": {},
     "output_type": "execute_result"
    }
   ],
   "source": [
    "def get_stats(df):\n",
    "    # Standard deviation across trials, within odors\n",
    "    a = df.std().mean()\n",
    "\n",
    "    # Standard deviation across individuals, within odors\n",
    "    b = df.groupby(['Group', 'Participant']).mean().std().mean()\n",
    "\n",
    "    # Standard deviation across cultures, within odors\n",
    "    c = df.groupby(['Group']).mean().std().mean()\n",
    "    \n",
    "    return np.array([a, b, c])\n",
    "\n",
    "get_stats(data['raw-pseudo-replicated']), get_stats(data['synthetic'])"
   ]
  },
  {
   "cell_type": "code",
   "execution_count": 13,
   "metadata": {},
   "outputs": [
    {
     "data": {
      "application/vnd.jupyter.widget-view+json": {
       "model_id": "b7d52b5f27cb4c0abcaa6a17fcb9e2d7",
       "version_major": 2,
       "version_minor": 0
      },
      "text/plain": [
       "  0%|          | 0/10 [00:00<?, ?it/s]"
      ]
     },
     "metadata": {},
     "output_type": "display_data"
    },
    {
     "ename": "KeyboardInterrupt",
     "evalue": "",
     "output_type": "error",
     "traceback": [
      "\u001b[0;31m---------------------------------------------------------------------------\u001b[0m",
      "\u001b[0;31mKeyboardInterrupt\u001b[0m                         Traceback (most recent call last)",
      "\u001b[0;32m<ipython-input-13-f7cddae788a9>\u001b[0m in \u001b[0;36m<module>\u001b[0;34m\u001b[0m\n\u001b[1;32m     16\u001b[0m                       columns=['σ_odor', 'σ_group', 'σ_individual', 'σ_noise'])\n\u001b[1;32m     17\u001b[0m \u001b[0;32mfor\u001b[0m \u001b[0mi\u001b[0m \u001b[0;32min\u001b[0m \u001b[0mtqdm\u001b[0m\u001b[0;34m(\u001b[0m\u001b[0msigmas\u001b[0m\u001b[0;34m.\u001b[0m\u001b[0mindex\u001b[0m\u001b[0;34m)\u001b[0m\u001b[0;34m:\u001b[0m\u001b[0;34m\u001b[0m\u001b[0;34m\u001b[0m\u001b[0m\n\u001b[0;32m---> 18\u001b[0;31m     \u001b[0mresult\u001b[0m \u001b[0;34m=\u001b[0m \u001b[0mminimize\u001b[0m\u001b[0;34m(\u001b[0m\u001b[0mf\u001b[0m\u001b[0;34m,\u001b[0m \u001b[0;34m[\u001b[0m\u001b[0;36m3\u001b[0m\u001b[0;34m,\u001b[0m \u001b[0;36m1\u001b[0m\u001b[0;34m,\u001b[0m \u001b[0;36m3\u001b[0m\u001b[0;34m,\u001b[0m \u001b[0;36m1\u001b[0m\u001b[0;34m]\u001b[0m\u001b[0;34m,\u001b[0m \u001b[0mbounds\u001b[0m\u001b[0;34m=\u001b[0m\u001b[0;34m[\u001b[0m\u001b[0;34m(\u001b[0m\u001b[0;36m0\u001b[0m\u001b[0;34m,\u001b[0m \u001b[0;32mNone\u001b[0m\u001b[0;34m)\u001b[0m\u001b[0;34m]\u001b[0m\u001b[0;34m*\u001b[0m\u001b[0;36m4\u001b[0m\u001b[0;34m,\u001b[0m \u001b[0mmethod\u001b[0m\u001b[0;34m=\u001b[0m\u001b[0;34m'Powell'\u001b[0m\u001b[0;34m)\u001b[0m\u001b[0;34m\u001b[0m\u001b[0;34m\u001b[0m\u001b[0m\n\u001b[0m\u001b[1;32m     19\u001b[0m     \u001b[0msigmas\u001b[0m\u001b[0;34m.\u001b[0m\u001b[0mloc\u001b[0m\u001b[0;34m[\u001b[0m\u001b[0mi\u001b[0m\u001b[0;34m]\u001b[0m \u001b[0;34m=\u001b[0m \u001b[0mresult\u001b[0m\u001b[0;34m.\u001b[0m\u001b[0mx\u001b[0m\u001b[0;34m\u001b[0m\u001b[0;34m\u001b[0m\u001b[0m\n",
      "\u001b[0;32m/opt/mambaforge/lib/python3.9/site-packages/scipy/optimize/_minimize.py\u001b[0m in \u001b[0;36mminimize\u001b[0;34m(fun, x0, args, method, jac, hess, hessp, bounds, constraints, tol, callback, options)\u001b[0m\n\u001b[1;32m    608\u001b[0m         \u001b[0;32mreturn\u001b[0m \u001b[0m_minimize_neldermead\u001b[0m\u001b[0;34m(\u001b[0m\u001b[0mfun\u001b[0m\u001b[0;34m,\u001b[0m \u001b[0mx0\u001b[0m\u001b[0;34m,\u001b[0m \u001b[0margs\u001b[0m\u001b[0;34m,\u001b[0m \u001b[0mcallback\u001b[0m\u001b[0;34m,\u001b[0m \u001b[0;34m**\u001b[0m\u001b[0moptions\u001b[0m\u001b[0;34m)\u001b[0m\u001b[0;34m\u001b[0m\u001b[0;34m\u001b[0m\u001b[0m\n\u001b[1;32m    609\u001b[0m     \u001b[0;32melif\u001b[0m \u001b[0mmeth\u001b[0m \u001b[0;34m==\u001b[0m \u001b[0;34m'powell'\u001b[0m\u001b[0;34m:\u001b[0m\u001b[0;34m\u001b[0m\u001b[0;34m\u001b[0m\u001b[0m\n\u001b[0;32m--> 610\u001b[0;31m         \u001b[0;32mreturn\u001b[0m \u001b[0m_minimize_powell\u001b[0m\u001b[0;34m(\u001b[0m\u001b[0mfun\u001b[0m\u001b[0;34m,\u001b[0m \u001b[0mx0\u001b[0m\u001b[0;34m,\u001b[0m \u001b[0margs\u001b[0m\u001b[0;34m,\u001b[0m \u001b[0mcallback\u001b[0m\u001b[0;34m,\u001b[0m \u001b[0mbounds\u001b[0m\u001b[0;34m,\u001b[0m \u001b[0;34m**\u001b[0m\u001b[0moptions\u001b[0m\u001b[0;34m)\u001b[0m\u001b[0;34m\u001b[0m\u001b[0;34m\u001b[0m\u001b[0m\n\u001b[0m\u001b[1;32m    611\u001b[0m     \u001b[0;32melif\u001b[0m \u001b[0mmeth\u001b[0m \u001b[0;34m==\u001b[0m \u001b[0;34m'cg'\u001b[0m\u001b[0;34m:\u001b[0m\u001b[0;34m\u001b[0m\u001b[0;34m\u001b[0m\u001b[0m\n\u001b[1;32m    612\u001b[0m         \u001b[0;32mreturn\u001b[0m \u001b[0m_minimize_cg\u001b[0m\u001b[0;34m(\u001b[0m\u001b[0mfun\u001b[0m\u001b[0;34m,\u001b[0m \u001b[0mx0\u001b[0m\u001b[0;34m,\u001b[0m \u001b[0margs\u001b[0m\u001b[0;34m,\u001b[0m \u001b[0mjac\u001b[0m\u001b[0;34m,\u001b[0m \u001b[0mcallback\u001b[0m\u001b[0;34m,\u001b[0m \u001b[0;34m**\u001b[0m\u001b[0moptions\u001b[0m\u001b[0;34m)\u001b[0m\u001b[0;34m\u001b[0m\u001b[0;34m\u001b[0m\u001b[0m\n",
      "\u001b[0;32m/opt/mambaforge/lib/python3.9/site-packages/scipy/optimize/optimize.py\u001b[0m in \u001b[0;36m_minimize_powell\u001b[0;34m(func, x0, args, callback, bounds, xtol, ftol, maxiter, maxfev, disp, direc, return_all, **unknown_options)\u001b[0m\n\u001b[1;32m   2963\u001b[0m             \u001b[0mdirec1\u001b[0m \u001b[0;34m=\u001b[0m \u001b[0mdirec\u001b[0m\u001b[0;34m[\u001b[0m\u001b[0mi\u001b[0m\u001b[0;34m]\u001b[0m\u001b[0;34m\u001b[0m\u001b[0;34m\u001b[0m\u001b[0m\n\u001b[1;32m   2964\u001b[0m             \u001b[0mfx2\u001b[0m \u001b[0;34m=\u001b[0m \u001b[0mfval\u001b[0m\u001b[0;34m\u001b[0m\u001b[0;34m\u001b[0m\u001b[0m\n\u001b[0;32m-> 2965\u001b[0;31m             fval, x, direc1 = _linesearch_powell(func, x, direc1,\n\u001b[0m\u001b[1;32m   2966\u001b[0m                                                  \u001b[0mtol\u001b[0m\u001b[0;34m=\u001b[0m\u001b[0mxtol\u001b[0m \u001b[0;34m*\u001b[0m \u001b[0;36m100\u001b[0m\u001b[0;34m,\u001b[0m\u001b[0;34m\u001b[0m\u001b[0;34m\u001b[0m\u001b[0m\n\u001b[1;32m   2967\u001b[0m                                                  \u001b[0mlower_bound\u001b[0m\u001b[0;34m=\u001b[0m\u001b[0mlower_bound\u001b[0m\u001b[0;34m,\u001b[0m\u001b[0;34m\u001b[0m\u001b[0;34m\u001b[0m\u001b[0m\n",
      "\u001b[0;32m/opt/mambaforge/lib/python3.9/site-packages/scipy/optimize/optimize.py\u001b[0m in \u001b[0;36m_linesearch_powell\u001b[0;34m(func, p, xi, tol, lower_bound, upper_bound, fval)\u001b[0m\n\u001b[1;32m   2712\u001b[0m             \u001b[0;31m# is a subregion of the region bounded by -np.pi/2 and np.pi/2.\u001b[0m\u001b[0;34m\u001b[0m\u001b[0;34m\u001b[0m\u001b[0;34m\u001b[0m\u001b[0m\n\u001b[1;32m   2713\u001b[0m             \u001b[0mbound\u001b[0m \u001b[0;34m=\u001b[0m \u001b[0mnp\u001b[0m\u001b[0;34m.\u001b[0m\u001b[0marctan\u001b[0m\u001b[0;34m(\u001b[0m\u001b[0mbound\u001b[0m\u001b[0;34m[\u001b[0m\u001b[0;36m0\u001b[0m\u001b[0;34m]\u001b[0m\u001b[0;34m)\u001b[0m\u001b[0;34m,\u001b[0m \u001b[0mnp\u001b[0m\u001b[0;34m.\u001b[0m\u001b[0marctan\u001b[0m\u001b[0;34m(\u001b[0m\u001b[0mbound\u001b[0m\u001b[0;34m[\u001b[0m\u001b[0;36m1\u001b[0m\u001b[0;34m]\u001b[0m\u001b[0;34m)\u001b[0m\u001b[0;34m\u001b[0m\u001b[0;34m\u001b[0m\u001b[0m\n\u001b[0;32m-> 2714\u001b[0;31m             res = _minimize_scalar_bounded(\n\u001b[0m\u001b[1;32m   2715\u001b[0m                 \u001b[0;32mlambda\u001b[0m \u001b[0mx\u001b[0m\u001b[0;34m:\u001b[0m \u001b[0mmyfunc\u001b[0m\u001b[0;34m(\u001b[0m\u001b[0mnp\u001b[0m\u001b[0;34m.\u001b[0m\u001b[0mtan\u001b[0m\u001b[0;34m(\u001b[0m\u001b[0mx\u001b[0m\u001b[0;34m)\u001b[0m\u001b[0;34m)\u001b[0m\u001b[0;34m,\u001b[0m\u001b[0;34m\u001b[0m\u001b[0;34m\u001b[0m\u001b[0m\n\u001b[1;32m   2716\u001b[0m                 \u001b[0mbound\u001b[0m\u001b[0;34m,\u001b[0m\u001b[0;34m\u001b[0m\u001b[0;34m\u001b[0m\u001b[0m\n",
      "\u001b[0;32m/opt/mambaforge/lib/python3.9/site-packages/scipy/optimize/optimize.py\u001b[0m in \u001b[0;36m_minimize_scalar_bounded\u001b[0;34m(func, bounds, args, xatol, maxiter, disp, **unknown_options)\u001b[0m\n\u001b[1;32m   1956\u001b[0m     \u001b[0mrat\u001b[0m \u001b[0;34m=\u001b[0m \u001b[0me\u001b[0m \u001b[0;34m=\u001b[0m \u001b[0;36m0.0\u001b[0m\u001b[0;34m\u001b[0m\u001b[0;34m\u001b[0m\u001b[0m\n\u001b[1;32m   1957\u001b[0m     \u001b[0mx\u001b[0m \u001b[0;34m=\u001b[0m \u001b[0mxf\u001b[0m\u001b[0;34m\u001b[0m\u001b[0;34m\u001b[0m\u001b[0m\n\u001b[0;32m-> 1958\u001b[0;31m     \u001b[0mfx\u001b[0m \u001b[0;34m=\u001b[0m \u001b[0mfunc\u001b[0m\u001b[0;34m(\u001b[0m\u001b[0mx\u001b[0m\u001b[0;34m,\u001b[0m \u001b[0;34m*\u001b[0m\u001b[0margs\u001b[0m\u001b[0;34m)\u001b[0m\u001b[0;34m\u001b[0m\u001b[0;34m\u001b[0m\u001b[0m\n\u001b[0m\u001b[1;32m   1959\u001b[0m     \u001b[0mnum\u001b[0m \u001b[0;34m=\u001b[0m \u001b[0;36m1\u001b[0m\u001b[0;34m\u001b[0m\u001b[0;34m\u001b[0m\u001b[0m\n\u001b[1;32m   1960\u001b[0m     \u001b[0mfmin_data\u001b[0m \u001b[0;34m=\u001b[0m \u001b[0;34m(\u001b[0m\u001b[0;36m1\u001b[0m\u001b[0;34m,\u001b[0m \u001b[0mxf\u001b[0m\u001b[0;34m,\u001b[0m \u001b[0mfx\u001b[0m\u001b[0;34m)\u001b[0m\u001b[0;34m\u001b[0m\u001b[0;34m\u001b[0m\u001b[0m\n",
      "\u001b[0;32m/opt/mambaforge/lib/python3.9/site-packages/scipy/optimize/optimize.py\u001b[0m in \u001b[0;36m<lambda>\u001b[0;34m(x)\u001b[0m\n\u001b[1;32m   2713\u001b[0m             \u001b[0mbound\u001b[0m \u001b[0;34m=\u001b[0m \u001b[0mnp\u001b[0m\u001b[0;34m.\u001b[0m\u001b[0marctan\u001b[0m\u001b[0;34m(\u001b[0m\u001b[0mbound\u001b[0m\u001b[0;34m[\u001b[0m\u001b[0;36m0\u001b[0m\u001b[0;34m]\u001b[0m\u001b[0;34m)\u001b[0m\u001b[0;34m,\u001b[0m \u001b[0mnp\u001b[0m\u001b[0;34m.\u001b[0m\u001b[0marctan\u001b[0m\u001b[0;34m(\u001b[0m\u001b[0mbound\u001b[0m\u001b[0;34m[\u001b[0m\u001b[0;36m1\u001b[0m\u001b[0;34m]\u001b[0m\u001b[0;34m)\u001b[0m\u001b[0;34m\u001b[0m\u001b[0;34m\u001b[0m\u001b[0m\n\u001b[1;32m   2714\u001b[0m             res = _minimize_scalar_bounded(\n\u001b[0;32m-> 2715\u001b[0;31m                 \u001b[0;32mlambda\u001b[0m \u001b[0mx\u001b[0m\u001b[0;34m:\u001b[0m \u001b[0mmyfunc\u001b[0m\u001b[0;34m(\u001b[0m\u001b[0mnp\u001b[0m\u001b[0;34m.\u001b[0m\u001b[0mtan\u001b[0m\u001b[0;34m(\u001b[0m\u001b[0mx\u001b[0m\u001b[0;34m)\u001b[0m\u001b[0;34m)\u001b[0m\u001b[0;34m,\u001b[0m\u001b[0;34m\u001b[0m\u001b[0;34m\u001b[0m\u001b[0m\n\u001b[0m\u001b[1;32m   2716\u001b[0m                 \u001b[0mbound\u001b[0m\u001b[0;34m,\u001b[0m\u001b[0;34m\u001b[0m\u001b[0;34m\u001b[0m\u001b[0m\n\u001b[1;32m   2717\u001b[0m                 xatol=tol / 100)\n",
      "\u001b[0;32m/opt/mambaforge/lib/python3.9/site-packages/scipy/optimize/optimize.py\u001b[0m in \u001b[0;36mmyfunc\u001b[0;34m(alpha)\u001b[0m\n\u001b[1;32m   2687\u001b[0m     \"\"\"\n\u001b[1;32m   2688\u001b[0m     \u001b[0;32mdef\u001b[0m \u001b[0mmyfunc\u001b[0m\u001b[0;34m(\u001b[0m\u001b[0malpha\u001b[0m\u001b[0;34m)\u001b[0m\u001b[0;34m:\u001b[0m\u001b[0;34m\u001b[0m\u001b[0;34m\u001b[0m\u001b[0m\n\u001b[0;32m-> 2689\u001b[0;31m         \u001b[0;32mreturn\u001b[0m \u001b[0mfunc\u001b[0m\u001b[0;34m(\u001b[0m\u001b[0mp\u001b[0m \u001b[0;34m+\u001b[0m \u001b[0malpha\u001b[0m\u001b[0;34m*\u001b[0m\u001b[0mxi\u001b[0m\u001b[0;34m)\u001b[0m\u001b[0;34m\u001b[0m\u001b[0;34m\u001b[0m\u001b[0m\n\u001b[0m\u001b[1;32m   2690\u001b[0m \u001b[0;34m\u001b[0m\u001b[0m\n\u001b[1;32m   2691\u001b[0m     \u001b[0;31m# if xi is zero, then don't optimize\u001b[0m\u001b[0;34m\u001b[0m\u001b[0;34m\u001b[0m\u001b[0;34m\u001b[0m\u001b[0m\n",
      "\u001b[0;32m/opt/mambaforge/lib/python3.9/site-packages/scipy/optimize/optimize.py\u001b[0m in \u001b[0;36mfunction_wrapper\u001b[0;34m(*wrapper_args)\u001b[0m\n\u001b[1;32m    459\u001b[0m     \u001b[0;32mdef\u001b[0m \u001b[0mfunction_wrapper\u001b[0m\u001b[0;34m(\u001b[0m\u001b[0;34m*\u001b[0m\u001b[0mwrapper_args\u001b[0m\u001b[0;34m)\u001b[0m\u001b[0;34m:\u001b[0m\u001b[0;34m\u001b[0m\u001b[0;34m\u001b[0m\u001b[0m\n\u001b[1;32m    460\u001b[0m         \u001b[0mncalls\u001b[0m\u001b[0;34m[\u001b[0m\u001b[0;36m0\u001b[0m\u001b[0;34m]\u001b[0m \u001b[0;34m+=\u001b[0m \u001b[0;36m1\u001b[0m\u001b[0;34m\u001b[0m\u001b[0;34m\u001b[0m\u001b[0m\n\u001b[0;32m--> 461\u001b[0;31m         \u001b[0;32mreturn\u001b[0m \u001b[0mfunction\u001b[0m\u001b[0;34m(\u001b[0m\u001b[0;34m*\u001b[0m\u001b[0;34m(\u001b[0m\u001b[0mwrapper_args\u001b[0m \u001b[0;34m+\u001b[0m \u001b[0margs\u001b[0m\u001b[0;34m)\u001b[0m\u001b[0;34m)\u001b[0m\u001b[0;34m\u001b[0m\u001b[0;34m\u001b[0m\u001b[0m\n\u001b[0m\u001b[1;32m    462\u001b[0m \u001b[0;34m\u001b[0m\u001b[0m\n\u001b[1;32m    463\u001b[0m     \u001b[0;32mreturn\u001b[0m \u001b[0mncalls\u001b[0m\u001b[0;34m,\u001b[0m \u001b[0mfunction_wrapper\u001b[0m\u001b[0;34m\u001b[0m\u001b[0;34m\u001b[0m\u001b[0m\n",
      "\u001b[0;32m<ipython-input-13-f7cddae788a9>\u001b[0m in \u001b[0;36mf\u001b[0;34m(x)\u001b[0m\n\u001b[1;32m      7\u001b[0m     \u001b[0;32mfor\u001b[0m \u001b[0mi\u001b[0m \u001b[0;32min\u001b[0m \u001b[0mrange\u001b[0m\u001b[0;34m(\u001b[0m\u001b[0;36m100\u001b[0m\u001b[0;34m)\u001b[0m\u001b[0;34m:\u001b[0m\u001b[0;34m\u001b[0m\u001b[0;34m\u001b[0m\u001b[0m\n\u001b[1;32m      8\u001b[0m         \u001b[0msyn\u001b[0m \u001b[0;34m=\u001b[0m \u001b[0mmake_synthetic\u001b[0m\u001b[0;34m(\u001b[0m\u001b[0mdata\u001b[0m\u001b[0;34m[\u001b[0m\u001b[0;34m'raw-pseudo-replicated'\u001b[0m\u001b[0;34m]\u001b[0m\u001b[0;34m,\u001b[0m \u001b[0;34m*\u001b[0m\u001b[0mx\u001b[0m\u001b[0;34m)\u001b[0m\u001b[0;34m\u001b[0m\u001b[0;34m\u001b[0m\u001b[0m\n\u001b[0;32m----> 9\u001b[0;31m         \u001b[0msyn_stats\u001b[0m\u001b[0;34m.\u001b[0m\u001b[0mappend\u001b[0m\u001b[0;34m(\u001b[0m\u001b[0mget_stats\u001b[0m\u001b[0;34m(\u001b[0m\u001b[0msyn\u001b[0m\u001b[0;34m)\u001b[0m\u001b[0;34m)\u001b[0m\u001b[0;34m\u001b[0m\u001b[0;34m\u001b[0m\u001b[0m\n\u001b[0m\u001b[1;32m     10\u001b[0m     \u001b[0msyn_stats\u001b[0m \u001b[0;34m=\u001b[0m \u001b[0mnp\u001b[0m\u001b[0;34m.\u001b[0m\u001b[0mmean\u001b[0m\u001b[0;34m(\u001b[0m\u001b[0msyn_stats\u001b[0m\u001b[0;34m,\u001b[0m \u001b[0maxis\u001b[0m\u001b[0;34m=\u001b[0m\u001b[0;36m0\u001b[0m\u001b[0;34m)\u001b[0m\u001b[0;34m\u001b[0m\u001b[0;34m\u001b[0m\u001b[0m\n\u001b[1;32m     11\u001b[0m     \u001b[0merr\u001b[0m \u001b[0;34m=\u001b[0m \u001b[0mnp\u001b[0m\u001b[0;34m.\u001b[0m\u001b[0msum\u001b[0m\u001b[0;34m(\u001b[0m\u001b[0;34m(\u001b[0m\u001b[0msyn_stats\u001b[0m \u001b[0;34m-\u001b[0m \u001b[0mstats\u001b[0m\u001b[0;34m)\u001b[0m\u001b[0;34m**\u001b[0m\u001b[0;36m2\u001b[0m\u001b[0;34m)\u001b[0m\u001b[0;34m\u001b[0m\u001b[0;34m\u001b[0m\u001b[0m\n",
      "\u001b[0;32m<ipython-input-11-3744a3295ff8>\u001b[0m in \u001b[0;36mget_stats\u001b[0;34m(df)\u001b[0m\n\u001b[1;32m      1\u001b[0m \u001b[0;32mdef\u001b[0m \u001b[0mget_stats\u001b[0m\u001b[0;34m(\u001b[0m\u001b[0mdf\u001b[0m\u001b[0;34m)\u001b[0m\u001b[0;34m:\u001b[0m\u001b[0;34m\u001b[0m\u001b[0;34m\u001b[0m\u001b[0m\n\u001b[1;32m      2\u001b[0m     \u001b[0;31m# Standard deviation across trials, within odors\u001b[0m\u001b[0;34m\u001b[0m\u001b[0;34m\u001b[0m\u001b[0;34m\u001b[0m\u001b[0m\n\u001b[0;32m----> 3\u001b[0;31m     \u001b[0ma\u001b[0m \u001b[0;34m=\u001b[0m \u001b[0mdf\u001b[0m\u001b[0;34m.\u001b[0m\u001b[0mstd\u001b[0m\u001b[0;34m(\u001b[0m\u001b[0;34m)\u001b[0m\u001b[0;34m.\u001b[0m\u001b[0mmean\u001b[0m\u001b[0;34m(\u001b[0m\u001b[0;34m)\u001b[0m\u001b[0;34m\u001b[0m\u001b[0;34m\u001b[0m\u001b[0m\n\u001b[0m\u001b[1;32m      4\u001b[0m \u001b[0;34m\u001b[0m\u001b[0m\n\u001b[1;32m      5\u001b[0m     \u001b[0;31m# Standard deviation across individuals, within odors\u001b[0m\u001b[0;34m\u001b[0m\u001b[0;34m\u001b[0m\u001b[0;34m\u001b[0m\u001b[0m\n",
      "\u001b[0;32m/opt/mambaforge/lib/python3.9/site-packages/pandas/core/generic.py\u001b[0m in \u001b[0;36mstd\u001b[0;34m(self, axis, skipna, level, ddof, numeric_only, **kwargs)\u001b[0m\n\u001b[1;32m  10617\u001b[0m             \u001b[0;34m**\u001b[0m\u001b[0mkwargs\u001b[0m\u001b[0;34m,\u001b[0m\u001b[0;34m\u001b[0m\u001b[0;34m\u001b[0m\u001b[0m\n\u001b[1;32m  10618\u001b[0m         ):\n\u001b[0;32m> 10619\u001b[0;31m             \u001b[0;32mreturn\u001b[0m \u001b[0mNDFrame\u001b[0m\u001b[0;34m.\u001b[0m\u001b[0mstd\u001b[0m\u001b[0;34m(\u001b[0m\u001b[0mself\u001b[0m\u001b[0;34m,\u001b[0m \u001b[0maxis\u001b[0m\u001b[0;34m,\u001b[0m \u001b[0mskipna\u001b[0m\u001b[0;34m,\u001b[0m \u001b[0mlevel\u001b[0m\u001b[0;34m,\u001b[0m \u001b[0mddof\u001b[0m\u001b[0;34m,\u001b[0m \u001b[0mnumeric_only\u001b[0m\u001b[0;34m,\u001b[0m \u001b[0;34m**\u001b[0m\u001b[0mkwargs\u001b[0m\u001b[0;34m)\u001b[0m\u001b[0;34m\u001b[0m\u001b[0;34m\u001b[0m\u001b[0m\n\u001b[0m\u001b[1;32m  10620\u001b[0m \u001b[0;34m\u001b[0m\u001b[0m\n\u001b[1;32m  10621\u001b[0m         \u001b[0msetattr\u001b[0m\u001b[0;34m(\u001b[0m\u001b[0mcls\u001b[0m\u001b[0;34m,\u001b[0m \u001b[0;34m\"std\"\u001b[0m\u001b[0;34m,\u001b[0m \u001b[0mstd\u001b[0m\u001b[0;34m)\u001b[0m\u001b[0;34m\u001b[0m\u001b[0;34m\u001b[0m\u001b[0m\n",
      "\u001b[0;32m/opt/mambaforge/lib/python3.9/site-packages/pandas/core/generic.py\u001b[0m in \u001b[0;36mstd\u001b[0;34m(self, axis, skipna, level, ddof, numeric_only, **kwargs)\u001b[0m\n\u001b[1;32m  10309\u001b[0m         \u001b[0mself\u001b[0m\u001b[0;34m,\u001b[0m \u001b[0maxis\u001b[0m\u001b[0;34m=\u001b[0m\u001b[0;32mNone\u001b[0m\u001b[0;34m,\u001b[0m \u001b[0mskipna\u001b[0m\u001b[0;34m=\u001b[0m\u001b[0;32mNone\u001b[0m\u001b[0;34m,\u001b[0m \u001b[0mlevel\u001b[0m\u001b[0;34m=\u001b[0m\u001b[0;32mNone\u001b[0m\u001b[0;34m,\u001b[0m \u001b[0mddof\u001b[0m\u001b[0;34m=\u001b[0m\u001b[0;36m1\u001b[0m\u001b[0;34m,\u001b[0m \u001b[0mnumeric_only\u001b[0m\u001b[0;34m=\u001b[0m\u001b[0;32mNone\u001b[0m\u001b[0;34m,\u001b[0m \u001b[0;34m**\u001b[0m\u001b[0mkwargs\u001b[0m\u001b[0;34m\u001b[0m\u001b[0;34m\u001b[0m\u001b[0m\n\u001b[1;32m  10310\u001b[0m     ):\n\u001b[0;32m> 10311\u001b[0;31m         return self._stat_function_ddof(\n\u001b[0m\u001b[1;32m  10312\u001b[0m             \u001b[0;34m\"std\"\u001b[0m\u001b[0;34m,\u001b[0m \u001b[0mnanops\u001b[0m\u001b[0;34m.\u001b[0m\u001b[0mnanstd\u001b[0m\u001b[0;34m,\u001b[0m \u001b[0maxis\u001b[0m\u001b[0;34m,\u001b[0m \u001b[0mskipna\u001b[0m\u001b[0;34m,\u001b[0m \u001b[0mlevel\u001b[0m\u001b[0;34m,\u001b[0m \u001b[0mddof\u001b[0m\u001b[0;34m,\u001b[0m \u001b[0mnumeric_only\u001b[0m\u001b[0;34m,\u001b[0m \u001b[0;34m**\u001b[0m\u001b[0mkwargs\u001b[0m\u001b[0;34m\u001b[0m\u001b[0;34m\u001b[0m\u001b[0m\n\u001b[1;32m  10313\u001b[0m         )\n",
      "\u001b[0;32m/opt/mambaforge/lib/python3.9/site-packages/pandas/core/generic.py\u001b[0m in \u001b[0;36m_stat_function_ddof\u001b[0;34m(self, name, func, axis, skipna, level, ddof, numeric_only, **kwargs)\u001b[0m\n\u001b[1;32m  10288\u001b[0m                 \u001b[0mname\u001b[0m\u001b[0;34m,\u001b[0m \u001b[0maxis\u001b[0m\u001b[0;34m=\u001b[0m\u001b[0maxis\u001b[0m\u001b[0;34m,\u001b[0m \u001b[0mlevel\u001b[0m\u001b[0;34m=\u001b[0m\u001b[0mlevel\u001b[0m\u001b[0;34m,\u001b[0m \u001b[0mskipna\u001b[0m\u001b[0;34m=\u001b[0m\u001b[0mskipna\u001b[0m\u001b[0;34m,\u001b[0m \u001b[0mddof\u001b[0m\u001b[0;34m=\u001b[0m\u001b[0mddof\u001b[0m\u001b[0;34m\u001b[0m\u001b[0;34m\u001b[0m\u001b[0m\n\u001b[1;32m  10289\u001b[0m             )\n\u001b[0;32m> 10290\u001b[0;31m         return self._reduce(\n\u001b[0m\u001b[1;32m  10291\u001b[0m             \u001b[0mfunc\u001b[0m\u001b[0;34m,\u001b[0m \u001b[0mname\u001b[0m\u001b[0;34m,\u001b[0m \u001b[0maxis\u001b[0m\u001b[0;34m=\u001b[0m\u001b[0maxis\u001b[0m\u001b[0;34m,\u001b[0m \u001b[0mnumeric_only\u001b[0m\u001b[0;34m=\u001b[0m\u001b[0mnumeric_only\u001b[0m\u001b[0;34m,\u001b[0m \u001b[0mskipna\u001b[0m\u001b[0;34m=\u001b[0m\u001b[0mskipna\u001b[0m\u001b[0;34m,\u001b[0m \u001b[0mddof\u001b[0m\u001b[0;34m=\u001b[0m\u001b[0mddof\u001b[0m\u001b[0;34m\u001b[0m\u001b[0;34m\u001b[0m\u001b[0m\n\u001b[1;32m  10292\u001b[0m         )\n",
      "\u001b[0;32m/opt/mambaforge/lib/python3.9/site-packages/pandas/core/frame.py\u001b[0m in \u001b[0;36m_reduce\u001b[0;34m(self, op, name, axis, skipna, numeric_only, filter_type, **kwds)\u001b[0m\n\u001b[1;32m   9846\u001b[0m             \u001b[0;31m# After possibly _get_data and transposing, we are now in the\u001b[0m\u001b[0;34m\u001b[0m\u001b[0;34m\u001b[0m\u001b[0;34m\u001b[0m\u001b[0m\n\u001b[1;32m   9847\u001b[0m             \u001b[0;31m#  simple case where we can use BlockManager.reduce\u001b[0m\u001b[0;34m\u001b[0m\u001b[0;34m\u001b[0m\u001b[0;34m\u001b[0m\u001b[0m\n\u001b[0;32m-> 9848\u001b[0;31m             \u001b[0mres\u001b[0m\u001b[0;34m,\u001b[0m \u001b[0m_\u001b[0m \u001b[0;34m=\u001b[0m \u001b[0mdf\u001b[0m\u001b[0;34m.\u001b[0m\u001b[0m_mgr\u001b[0m\u001b[0;34m.\u001b[0m\u001b[0mreduce\u001b[0m\u001b[0;34m(\u001b[0m\u001b[0mblk_func\u001b[0m\u001b[0;34m,\u001b[0m \u001b[0mignore_failures\u001b[0m\u001b[0;34m=\u001b[0m\u001b[0mignore_failures\u001b[0m\u001b[0;34m)\u001b[0m\u001b[0;34m\u001b[0m\u001b[0;34m\u001b[0m\u001b[0m\n\u001b[0m\u001b[1;32m   9849\u001b[0m             \u001b[0mout\u001b[0m \u001b[0;34m=\u001b[0m \u001b[0mdf\u001b[0m\u001b[0;34m.\u001b[0m\u001b[0m_constructor\u001b[0m\u001b[0;34m(\u001b[0m\u001b[0mres\u001b[0m\u001b[0;34m)\u001b[0m\u001b[0;34m.\u001b[0m\u001b[0miloc\u001b[0m\u001b[0;34m[\u001b[0m\u001b[0;36m0\u001b[0m\u001b[0;34m]\u001b[0m\u001b[0;34m\u001b[0m\u001b[0;34m\u001b[0m\u001b[0m\n\u001b[1;32m   9850\u001b[0m             \u001b[0;32mif\u001b[0m \u001b[0mout_dtype\u001b[0m \u001b[0;32mis\u001b[0m \u001b[0;32mnot\u001b[0m \u001b[0;32mNone\u001b[0m\u001b[0;34m:\u001b[0m\u001b[0;34m\u001b[0m\u001b[0;34m\u001b[0m\u001b[0m\n",
      "\u001b[0;32m/opt/mambaforge/lib/python3.9/site-packages/pandas/core/internals/managers.py\u001b[0m in \u001b[0;36mreduce\u001b[0;34m(self, func, ignore_failures)\u001b[0m\n\u001b[1;32m   1280\u001b[0m             \u001b[0mres_blocks\u001b[0m\u001b[0;34m.\u001b[0m\u001b[0mextend\u001b[0m\u001b[0;34m(\u001b[0m\u001b[0mnbs\u001b[0m\u001b[0;34m)\u001b[0m\u001b[0;34m\u001b[0m\u001b[0;34m\u001b[0m\u001b[0m\n\u001b[1;32m   1281\u001b[0m \u001b[0;34m\u001b[0m\u001b[0m\n\u001b[0;32m-> 1282\u001b[0;31m         \u001b[0mindex\u001b[0m \u001b[0;34m=\u001b[0m \u001b[0mIndex\u001b[0m\u001b[0;34m(\u001b[0m\u001b[0;34m[\u001b[0m\u001b[0;32mNone\u001b[0m\u001b[0;34m]\u001b[0m\u001b[0;34m)\u001b[0m  \u001b[0;31m# placeholder\u001b[0m\u001b[0;34m\u001b[0m\u001b[0;34m\u001b[0m\u001b[0m\n\u001b[0m\u001b[1;32m   1283\u001b[0m         \u001b[0;32mif\u001b[0m \u001b[0mignore_failures\u001b[0m\u001b[0;34m:\u001b[0m\u001b[0;34m\u001b[0m\u001b[0;34m\u001b[0m\u001b[0m\n\u001b[1;32m   1284\u001b[0m             \u001b[0;32mif\u001b[0m \u001b[0mres_blocks\u001b[0m\u001b[0;34m:\u001b[0m\u001b[0;34m\u001b[0m\u001b[0;34m\u001b[0m\u001b[0m\n",
      "\u001b[0;32m/opt/mambaforge/lib/python3.9/site-packages/pandas/core/indexes/base.py\u001b[0m in \u001b[0;36m__new__\u001b[0;34m(cls, data, dtype, copy, name, tupleize_cols, **kwargs)\u001b[0m\n\u001b[1;32m    493\u001b[0m \u001b[0;34m\u001b[0m\u001b[0m\n\u001b[1;32m    494\u001b[0m             \u001b[0msubarr\u001b[0m \u001b[0;34m=\u001b[0m \u001b[0mcom\u001b[0m\u001b[0;34m.\u001b[0m\u001b[0masarray_tuplesafe\u001b[0m\u001b[0;34m(\u001b[0m\u001b[0mdata\u001b[0m\u001b[0;34m,\u001b[0m \u001b[0mdtype\u001b[0m\u001b[0;34m=\u001b[0m\u001b[0mnp\u001b[0m\u001b[0;34m.\u001b[0m\u001b[0mdtype\u001b[0m\u001b[0;34m(\u001b[0m\u001b[0;34m\"object\"\u001b[0m\u001b[0;34m)\u001b[0m\u001b[0;34m)\u001b[0m\u001b[0;34m\u001b[0m\u001b[0;34m\u001b[0m\u001b[0m\n\u001b[0;32m--> 495\u001b[0;31m             \u001b[0;32mreturn\u001b[0m \u001b[0mIndex\u001b[0m\u001b[0;34m(\u001b[0m\u001b[0msubarr\u001b[0m\u001b[0;34m,\u001b[0m \u001b[0mdtype\u001b[0m\u001b[0;34m=\u001b[0m\u001b[0mdtype\u001b[0m\u001b[0;34m,\u001b[0m \u001b[0mcopy\u001b[0m\u001b[0;34m=\u001b[0m\u001b[0mcopy\u001b[0m\u001b[0;34m,\u001b[0m \u001b[0mname\u001b[0m\u001b[0;34m=\u001b[0m\u001b[0mname\u001b[0m\u001b[0;34m,\u001b[0m \u001b[0;34m**\u001b[0m\u001b[0mkwargs\u001b[0m\u001b[0;34m)\u001b[0m\u001b[0;34m\u001b[0m\u001b[0;34m\u001b[0m\u001b[0m\n\u001b[0m\u001b[1;32m    496\u001b[0m \u001b[0;34m\u001b[0m\u001b[0m\n\u001b[1;32m    497\u001b[0m     \u001b[0;34m@\u001b[0m\u001b[0mclassmethod\u001b[0m\u001b[0;34m\u001b[0m\u001b[0;34m\u001b[0m\u001b[0m\n",
      "\u001b[0;32m/opt/mambaforge/lib/python3.9/site-packages/pandas/core/indexes/base.py\u001b[0m in \u001b[0;36m__new__\u001b[0;34m(cls, data, dtype, copy, name, tupleize_cols, **kwargs)\u001b[0m\n\u001b[1;32m    460\u001b[0m \u001b[0;34m\u001b[0m\u001b[0m\n\u001b[1;32m    461\u001b[0m                 \u001b[0;32mif\u001b[0m \u001b[0mdtype\u001b[0m \u001b[0;32mis\u001b[0m \u001b[0;32mNone\u001b[0m\u001b[0;34m:\u001b[0m\u001b[0;34m\u001b[0m\u001b[0;34m\u001b[0m\u001b[0m\n\u001b[0;32m--> 462\u001b[0;31m                     \u001b[0marr\u001b[0m \u001b[0;34m=\u001b[0m \u001b[0m_maybe_cast_data_without_dtype\u001b[0m\u001b[0;34m(\u001b[0m\u001b[0marr\u001b[0m\u001b[0;34m)\u001b[0m\u001b[0;34m\u001b[0m\u001b[0;34m\u001b[0m\u001b[0m\n\u001b[0m\u001b[1;32m    463\u001b[0m                     \u001b[0mdtype\u001b[0m \u001b[0;34m=\u001b[0m \u001b[0marr\u001b[0m\u001b[0;34m.\u001b[0m\u001b[0mdtype\u001b[0m\u001b[0;34m\u001b[0m\u001b[0;34m\u001b[0m\u001b[0m\n\u001b[1;32m    464\u001b[0m \u001b[0;34m\u001b[0m\u001b[0m\n",
      "\u001b[0;32m/opt/mambaforge/lib/python3.9/site-packages/pandas/core/indexes/base.py\u001b[0m in \u001b[0;36m_maybe_cast_data_without_dtype\u001b[0;34m(subarr)\u001b[0m\n\u001b[1;32m   6420\u001b[0m     \u001b[0;32mif\u001b[0m \u001b[0mresult\u001b[0m\u001b[0;34m.\u001b[0m\u001b[0mdtype\u001b[0m\u001b[0;34m.\u001b[0m\u001b[0mkind\u001b[0m \u001b[0;32min\u001b[0m \u001b[0;34m[\u001b[0m\u001b[0;34m\"b\"\u001b[0m\u001b[0;34m,\u001b[0m \u001b[0;34m\"c\"\u001b[0m\u001b[0;34m]\u001b[0m\u001b[0;34m:\u001b[0m\u001b[0;34m\u001b[0m\u001b[0;34m\u001b[0m\u001b[0m\n\u001b[1;32m   6421\u001b[0m         \u001b[0;32mreturn\u001b[0m \u001b[0msubarr\u001b[0m\u001b[0;34m\u001b[0m\u001b[0;34m\u001b[0m\u001b[0m\n\u001b[0;32m-> 6422\u001b[0;31m     \u001b[0mresult\u001b[0m \u001b[0;34m=\u001b[0m \u001b[0mensure_wrapped_if_datetimelike\u001b[0m\u001b[0;34m(\u001b[0m\u001b[0mresult\u001b[0m\u001b[0;34m)\u001b[0m\u001b[0;34m\u001b[0m\u001b[0;34m\u001b[0m\u001b[0m\n\u001b[0m\u001b[1;32m   6423\u001b[0m     \u001b[0;32mreturn\u001b[0m \u001b[0mresult\u001b[0m\u001b[0;34m\u001b[0m\u001b[0;34m\u001b[0m\u001b[0m\n\u001b[1;32m   6424\u001b[0m \u001b[0;34m\u001b[0m\u001b[0m\n",
      "\u001b[0;31mKeyboardInterrupt\u001b[0m: "
     ]
    }
   ],
   "source": [
    "from scipy.optimize import minimize\n",
    "\n",
    "stats = get_stats(data['raw-pseudo-replicated'])\n",
    "\n",
    "def f(x):\n",
    "    syn_stats = []\n",
    "    for i in range(100):\n",
    "        syn = make_synthetic(data['raw-pseudo-replicated'], *x)\n",
    "        syn_stats.append(get_stats(syn))\n",
    "    syn_stats = np.mean(syn_stats, axis=0)\n",
    "    err = np.sum((syn_stats - stats)**2)\n",
    "    #print(err)\n",
    "    return err\n",
    "\n",
    "sigmas = pd.DataFrame(index=range(10),\n",
    "                      columns=['σ_odor', 'σ_group', 'σ_individual', 'σ_noise'])\n",
    "for i in tqdm(sigmas.index):\n",
    "    result = minimize(f, [3, 1, 3, 1], bounds=[(0, None)]*4, method='Powell')\n",
    "    sigmas.loc[i] = result.x"
   ]
  },
  {
   "cell_type": "code",
   "execution_count": 19,
   "metadata": {},
   "outputs": [
    {
     "data": {
      "image/png": "[encoded data removed]",
      "text/plain": [
       "<Figure size 432x288 with 1 Axes>"
      ]
     },
     "metadata": {},
     "output_type": "display_data"
    }
   ],
   "source": [
    "vars_explained = (sigmas**2).div((sigmas**2).sum(axis=1), axis=0).round(3)\n",
    "vars_explained.columns = vars_explained.columns.map(lambda x: x.split('_')[1])\n",
    "sns.barplot(data=vars_explained);\n",
    "plt.ylabel('Variance Explained');"
   ]
  },
  {
   "cell_type": "code",
   "execution_count": 20,
   "metadata": {},
   "outputs": [
    {
     "data": {
      "text/plain": [
       "(odor          0.412843\n",
       " group         0.063751\n",
       " individual    0.497603\n",
       " noise         0.025803\n",
       " dtype: float64,\n",
       " odor          0.007584\n",
       " group         0.004898\n",
       " individual    0.017154\n",
       " noise         0.013342\n",
       " dtype: float64)"
      ]
     },
     "execution_count": 20,
     "metadata": {},
     "output_type": "execute_result"
    }
   ],
   "source": [
    "vars_explained.mean(), vars_explained.std()"
   ]
  },
  {
   "cell_type": "markdown",
   "metadata": {},
   "source": [
    "## A Bayesian Model for Conducting the Same Analysis"
   ]
  },
  {
   "cell_type": "code",
   "execution_count": 6,
   "metadata": {},
   "outputs": [],
   "source": [
    "# Compile the model, written in Stan (a probabilistic programming language for fitting Bayesian models)\n",
    "model = up.load_or_compile_stan_model('univple-replicates')"
   ]
  },
  {
   "cell_type": "code",
   "execution_count": 7,
   "metadata": {},
   "outputs": [],
   "source": [
    "samples = {}"
   ]
  },
  {
   "cell_type": "code",
   "execution_count": 8,
   "metadata": {
    "tags": []
   },
   "outputs": [
    {
     "name": "stdout",
     "output_type": "stream",
     "text": [
      "\n",
      "Gradient evaluation took 0.000626 seconds\n",
      "1000 transitions using 10 leapfrog steps per transition would take 6.26 seconds.\n",
      "Adjust your expectations accordingly!\n",
      "\n",
      "\n",
      "\n",
      "Gradient evaluation took 0.000654 seconds\n",
      "1000 transitions using 10 leapfrog steps per transition would take 6.54 seconds.\n",
      "Adjust your expectations accordingly!\n",
      "\n",
      "\n",
      "Iteration:     1 / 20000 [  0%]  (Warmup)\n",
      "Iteration:     1 / 20000 [  0%]  (Warmup)\n",
      "\n",
      "Gradient evaluation took 0.000628 seconds\n",
      "1000 transitions using 10 leapfrog steps per transition would take 6.28 seconds.\n",
      "Adjust your expectations accordingly!\n",
      "\n",
      "\n",
      "Iteration:     1 / 20000 [  0%]  (Warmup)\n",
      "\n",
      "Gradient evaluation took 0.000659 seconds\n",
      "1000 transitions using 10 leapfrog steps per transition would take 6.59 seconds.\n",
      "Adjust your expectations accordingly!\n",
      "\n",
      "\n",
      "Iteration:     1 / 20000 [  0%]  (Warmup)\n",
      "Iteration:  2000 / 20000 [ 10%]  (Warmup)\n",
      "Iteration:  2000 / 20000 [ 10%]  (Warmup)\n",
      "Iteration:  2000 / 20000 [ 10%]  (Warmup)\n",
      "Iteration:  2000 / 20000 [ 10%]  (Warmup)\n",
      "Iteration:  4000 / 20000 [ 20%]  (Warmup)\n",
      "Iteration:  4000 / 20000 [ 20%]  (Warmup)\n",
      "Iteration:  4000 / 20000 [ 20%]  (Warmup)\n",
      "Iteration:  5001 / 20000 [ 25%]  (Sampling)\n",
      "Iteration:  4000 / 20000 [ 20%]  (Warmup)\n",
      "Iteration:  5001 / 20000 [ 25%]  (Sampling)\n",
      "Iteration:  5001 / 20000 [ 25%]  (Sampling)\n",
      "Iteration:  5001 / 20000 [ 25%]  (Sampling)\n",
      "Iteration:  7000 / 20000 [ 35%]  (Sampling)\n",
      "Iteration:  7000 / 20000 [ 35%]  (Sampling)\n",
      "Iteration:  7000 / 20000 [ 35%]  (Sampling)\n",
      "Iteration:  7000 / 20000 [ 35%]  (Sampling)\n",
      "Iteration:  9000 / 20000 [ 45%]  (Sampling)\n",
      "Iteration:  9000 / 20000 [ 45%]  (Sampling)\n",
      "Iteration: 11000 / 20000 [ 55%]  (Sampling)\n",
      "Iteration: 13000 / 20000 [ 65%]  (Sampling)\n",
      "Iteration:  9000 / 20000 [ 45%]  (Sampling)\n",
      "Iteration: 11000 / 20000 [ 55%]  (Sampling)\n",
      "Iteration:  9000 / 20000 [ 45%]  (Sampling)\n",
      "Iteration: 15000 / 20000 [ 75%]  (Sampling)\n",
      "Iteration: 13000 / 20000 [ 65%]  (Sampling)\n",
      "Iteration: 15000 / 20000 [ 75%]  (Sampling)\n",
      "Iteration: 11000 / 20000 [ 55%]  (Sampling)\n",
      "Iteration: 11000 / 20000 [ 55%]  (Sampling)\n",
      "Iteration: 17000 / 20000 [ 85%]  (Sampling)\n",
      "Iteration: 17000 / 20000 [ 85%]  (Sampling)\n",
      "Iteration: 13000 / 20000 [ 65%]  (Sampling)\n",
      "Iteration: 19000 / 20000 [ 95%]  (Sampling)\n",
      "Iteration: 19000 / 20000 [ 95%]  (Sampling)\n",
      "Iteration: 13000 / 20000 [ 65%]  (Sampling)\n",
      "Iteration: 20000 / 20000 [100%]  (Sampling)\n",
      "\n",
      " Elapsed Time: 1331.13 seconds (Warm-up)\n",
      "               4898.15 seconds (Sampling)\n",
      "               6229.29 seconds (Total)\n",
      "\n",
      "Iteration: 20000 / 20000 [100%]  (Sampling)\n",
      "\n",
      " Elapsed Time: 1126.38 seconds (Warm-up)\n",
      "               5412.93 seconds (Sampling)\n",
      "               6539.31 seconds (Total)\n",
      "\n",
      "Iteration: 15000 / 20000 [ 75%]  (Sampling)\n",
      "Iteration: 15000 / 20000 [ 75%]  (Sampling)\n",
      "Iteration: 17000 / 20000 [ 85%]  (Sampling)\n",
      "Iteration: 17000 / 20000 [ 85%]  (Sampling)\n",
      "Iteration: 19000 / 20000 [ 95%]  (Sampling)\n",
      "Iteration: 20000 / 20000 [100%]  (Sampling)\n",
      "\n",
      " Elapsed Time: 1214.82 seconds (Warm-up)\n",
      "               7689.21 seconds (Sampling)\n",
      "               8904.03 seconds (Total)\n",
      "\n",
      "Iteration: 19000 / 20000 [ 95%]  (Sampling)\n",
      "Iteration: 20000 / 20000 [100%]  (Sampling)\n",
      "\n",
      " Elapsed Time: 1515.69 seconds (Warm-up)\n",
      "               8458.8 seconds (Sampling)\n",
      "               9974.48 seconds (Total)\n",
      "\n"
     ]
    },
    {
     "name": "stderr",
     "output_type": "stream",
     "text": [
      "WARNING:pystan:Maximum (flat) parameter count (1000) exceeded: skipping diagnostic tests for n_eff and Rhat.\n",
      "To run all diagnostics call pystan.check_hmc_diagnostics(fit)\n",
      "WARNING:pystan:Chain 1: E-BFMI = 0.0129\n",
      "WARNING:pystan:Chain 2: E-BFMI = 0.0129\n",
      "WARNING:pystan:Chain 3: E-BFMI = 0.0213\n",
      "WARNING:pystan:Chain 4: E-BFMI = 0.0127\n",
      "WARNING:pystan:E-BFMI below 0.2 indicates you may need to reparameterize your model\n"
     ]
    },
    {
     "name": "stdout",
     "output_type": "stream",
     "text": [
      "CPU times: user 4min 38s, sys: 29.7 s, total: 5min 8s\n",
      "Wall time: 2h 50min 36s\n"
     ]
    }
   ],
   "source": [
    "name = 'ranked'\n",
    "%time samples[name] = up.load_or_sample(model, data[name], name)"
   ]
  },
  {
   "cell_type": "code",
   "execution_count": 17,
   "metadata": {
    "tags": []
   },
   "outputs": [
    {
     "name": "stdout",
     "output_type": "stream",
     "text": [
      "CPU times: user 32.4 s, sys: 3.69 s, total: 36.1 s\n",
      "Wall time: 36.1 s\n"
     ]
    }
   ],
   "source": [
    "name = 'ranked-replicate-cloned'\n",
    "%time samples[name] = up.load_or_sample(model, data[name], name)"
   ]
  },
  {
   "cell_type": "code",
   "execution_count": 18,
   "metadata": {},
   "outputs": [
    {
     "name": "stdout",
     "output_type": "stream",
     "text": [
      "CPU times: user 32 s, sys: 3.67 s, total: 35.7 s\n",
      "Wall time: 35.7 s\n"
     ]
    }
   ],
   "source": [
    "name = 'ranked-replicate-swap'\n",
    "%time samples[name] = up.load_or_sample(model, data[name], name)"
   ]
  },
  {
   "cell_type": "code",
   "execution_count": 19,
   "metadata": {},
   "outputs": [
    {
     "name": "stdout",
     "output_type": "stream",
     "text": [
      "\n",
      "Gradient evaluation took 0.000944 seconds\n",
      "1000 transitions using 10 leapfrog steps per transition would take 9.44 seconds.\n",
      "Adjust your expectations accordingly!\n",
      "\n",
      "\n",
      "Iteration:     1 / 20000 [  0%]  (Warmup)\n",
      "\n",
      "\n",
      "Gradient evaluation took 0.00081 seconds\n",
      "Gradient evaluation took 0.000814 seconds\n",
      "1000 transitions using 10 leapfrog steps per transition would take 8.1 seconds.\n",
      "1000 transitions using 10 leapfrog steps per transition would take 8.14 seconds.\n",
      "Adjust your expectations accordingly!\n",
      "Adjust your expectations accordingly!\n",
      "\n",
      "\n",
      "\n",
      "\n",
      "\n",
      "Gradient evaluation took 0.001653 seconds\n",
      "1000 transitions using 10 leapfrog steps per transition would take 16.53 seconds.\n",
      "Adjust your expectations accordingly!\n",
      "\n",
      "\n",
      "Iteration:     1 / 20000 [  0%]  (Warmup)\n",
      "Iteration:     1 / 20000 [  0%]  (Warmup)\n",
      "Iteration:     1 / 20000 [  0%]  (Warmup)\n",
      "Iteration:  2000 / 20000 [ 10%]  (Warmup)\n",
      "Iteration:  2000 / 20000 [ 10%]  (Warmup)\n",
      "Iteration:  2000 / 20000 [ 10%]  (Warmup)\n",
      "Iteration:  2000 / 20000 [ 10%]  (Warmup)\n",
      "Iteration:  4000 / 20000 [ 20%]  (Warmup)\n",
      "Iteration:  4000 / 20000 [ 20%]  (Warmup)\n",
      "Iteration:  4000 / 20000 [ 20%]  (Warmup)\n",
      "Iteration:  4000 / 20000 [ 20%]  (Warmup)\n",
      "Iteration:  5001 / 20000 [ 25%]  (Sampling)\n",
      "Iteration:  5001 / 20000 [ 25%]  (Sampling)\n",
      "Iteration:  5001 / 20000 [ 25%]  (Sampling)\n",
      "Iteration:  5001 / 20000 [ 25%]  (Sampling)\n",
      "Iteration:  7000 / 20000 [ 35%]  (Sampling)\n",
      "Iteration:  7000 / 20000 [ 35%]  (Sampling)\n",
      "Iteration:  9000 / 20000 [ 45%]  (Sampling)\n",
      "Iteration:  9000 / 20000 [ 45%]  (Sampling)\n",
      "Iteration:  7000 / 20000 [ 35%]  (Sampling)\n",
      "Iteration: 11000 / 20000 [ 55%]  (Sampling)\n",
      "Iteration: 11000 / 20000 [ 55%]  (Sampling)\n",
      "Iteration:  7000 / 20000 [ 35%]  (Sampling)\n",
      "Iteration: 13000 / 20000 [ 65%]  (Sampling)\n",
      "Iteration: 13000 / 20000 [ 65%]  (Sampling)\n",
      "Iteration: 15000 / 20000 [ 75%]  (Sampling)\n",
      "Iteration:  9000 / 20000 [ 45%]  (Sampling)\n",
      "Iteration:  9000 / 20000 [ 45%]  (Sampling)\n",
      "Iteration: 17000 / 20000 [ 85%]  (Sampling)\n",
      "Iteration: 15000 / 20000 [ 75%]  (Sampling)\n",
      "Iteration: 11000 / 20000 [ 55%]  (Sampling)\n",
      "Iteration: 19000 / 20000 [ 95%]  (Sampling)\n",
      "Iteration: 17000 / 20000 [ 85%]  (Sampling)\n",
      "Iteration: 11000 / 20000 [ 55%]  (Sampling)\n",
      "Iteration: 20000 / 20000 [100%]  (Sampling)\n",
      "\n",
      " Elapsed Time: 1344.57 seconds (Warm-up)\n",
      "               3949.11 seconds (Sampling)\n",
      "               5293.68 seconds (Total)\n",
      "\n",
      "Iteration: 19000 / 20000 [ 95%]  (Sampling)\n",
      "Iteration: 20000 / 20000 [100%]  (Sampling)\n",
      "\n",
      " Elapsed Time: 1212.81 seconds (Warm-up)\n",
      "               4523.5 seconds (Sampling)\n",
      "               5736.31 seconds (Total)\n",
      "\n",
      "Iteration: 13000 / 20000 [ 65%]  (Sampling)\n",
      "Iteration: 13000 / 20000 [ 65%]  (Sampling)\n",
      "Iteration: 15000 / 20000 [ 75%]  (Sampling)\n",
      "Iteration: 17000 / 20000 [ 85%]  (Sampling)\n",
      "Iteration: 15000 / 20000 [ 75%]  (Sampling)\n",
      "Iteration: 19000 / 20000 [ 95%]  (Sampling)\n",
      "Iteration: 17000 / 20000 [ 85%]  (Sampling)\n",
      "Iteration: 20000 / 20000 [100%]  (Sampling)\n",
      "\n",
      " Elapsed Time: 1381.06 seconds (Warm-up)\n",
      "               7482.65 seconds (Sampling)\n",
      "               8863.71 seconds (Total)\n",
      "\n",
      "Iteration: 19000 / 20000 [ 95%]  (Sampling)\n",
      "Iteration: 20000 / 20000 [100%]  (Sampling)\n",
      "\n",
      " Elapsed Time: 1445.05 seconds (Warm-up)\n",
      "               8169.19 seconds (Sampling)\n",
      "               9614.24 seconds (Total)\n",
      "\n"
     ]
    },
    {
     "name": "stderr",
     "output_type": "stream",
     "text": [
      "WARNING:pystan:Maximum (flat) parameter count (1000) exceeded: skipping diagnostic tests for n_eff and Rhat.\n",
      "To run all diagnostics call pystan.check_hmc_diagnostics(fit)\n",
      "WARNING:pystan:106 of 60000 iterations ended with a divergence (0.177 %).\n",
      "WARNING:pystan:Try running with adapt_delta larger than 0.85 to remove the divergences.\n",
      "WARNING:pystan:Chain 1: E-BFMI = 0.0118\n",
      "WARNING:pystan:Chain 2: E-BFMI = 0.0136\n",
      "WARNING:pystan:Chain 3: E-BFMI = 0.0131\n",
      "WARNING:pystan:Chain 4: E-BFMI = 0.0139\n",
      "WARNING:pystan:E-BFMI below 0.2 indicates you may need to reparameterize your model\n"
     ]
    },
    {
     "name": "stdout",
     "output_type": "stream",
     "text": [
      "CPU times: user 4min 3s, sys: 21.6 s, total: 4min 25s\n",
      "Wall time: 2h 43min 55s\n"
     ]
    }
   ],
   "source": [
    "name = 'ranked-pseudo-replicated'\n",
    "%time samples[name] = up.load_or_sample(model, data[name], name)"
   ]
  },
  {
   "cell_type": "code",
   "execution_count": 20,
   "metadata": {},
   "outputs": [
    {
     "name": "stdout",
     "output_type": "stream",
     "text": [
      "ranked\n",
      "ranked-replicate-cloned\n",
      "ranked-replicate-swap\n",
      "ranked-pseudo-replicated\n"
     ]
    },
    {
     "data": {
      "image/png": "[encoded data removed]",
      "text/plain": [
       "<Figure size 720x360 with 4 Axes>"
      ]
     },
     "metadata": {},
     "output_type": "display_data"
    },
    {
     "data": {
      "image/png": "[encoded data removed]",
      "text/plain": [
       "<Figure size 720x360 with 4 Axes>"
      ]
     },
     "metadata": {},
     "output_type": "display_data"
    },
    {
     "data": {
      "image/png": "[encoded data removed]",
      "text/plain": [
       "<Figure size 720x360 with 4 Axes>"
      ]
     },
     "metadata": {},
     "output_type": "display_data"
    },
    {
     "data": {
      "image/png": "[encoded data removed]",
      "text/plain": [
       "<Figure size 720x360 with 4 Axes>"
      ]
     },
     "metadata": {},
     "output_type": "display_data"
    }
   ],
   "source": [
    "for name in ['ranked', 'ranked-replicate-cloned',\n",
    "             'ranked-replicate-swap', 'ranked-pseudo-replicated']:\n",
    "    print(name)\n",
    "    up.plot_sigmas(samples[name], groups)\n",
    "    if name == 'ranked':\n",
    "        plt.savefig('Figure S5.png', dpi=600, format='png')\n",
    "        plt.savefig('Figure S5.pdf', format='pdf')"
   ]
  },
  {
   "cell_type": "code",
   "execution_count": 9,
   "metadata": {},
   "outputs": [],
   "source": [
    "# Create shuffles to be modeled as well.\n",
    "shuffles = ['odors-within-culture', 'individuals']#, 'odors']\n",
    "for shuffle in shuffles:\n",
    "    data['shuffle-%s' % shuffle] = up.shuffle_data(data['ranked'], groups, shuffle)"
   ]
  },
  {
   "cell_type": "code",
   "execution_count": 10,
   "metadata": {},
   "outputs": [
    {
     "data": {
      "application/vnd.jupyter.widget-view+json": {
       "model_id": "7bf091a5da5543828de39bb715e81050",
       "version_major": 2,
       "version_minor": 0
      },
      "text/plain": [
       "  0%|          | 0/3 [00:00<?, ?it/s]"
      ]
     },
     "metadata": {},
     "output_type": "display_data"
    },
    {
     "name": "stdout",
     "output_type": "stream",
     "text": [
      "CPU times: user 37 s, sys: 7.53 s, total: 44.5 s\n",
      "Wall time: 44.7 s\n",
      "CPU times: user 36.8 s, sys: 5.74 s, total: 42.5 s\n",
      "Wall time: 42.6 s\n",
      "CPU times: user 35.6 s, sys: 4.45 s, total: 40.1 s\n",
      "Wall time: 40.1 s\n"
     ]
    }
   ],
   "source": [
    "# Fit the model to the real data and to the shuffled data\n",
    "# This will take many hours (or days) if you have not already sampled from these models\n",
    "# It will take a few minutes if you are just loading the samples\n",
    "samples = {}\n",
    "for shuffle in tqdm(['ranked'] + ['shuffle-%s' % shuffle for shuffle in shuffles]):\n",
    "    %time samples[shuffle] = up.load_or_sample(model, data[shuffle], shuffle)"
   ]
  },
  {
   "cell_type": "code",
   "execution_count": 11,
   "metadata": {},
   "outputs": [
    {
     "data": {
      "image/png": "[encoded data removed]",
      "text/plain": [
       "<Figure size 504x432 with 10 Axes>"
      ]
     },
     "metadata": {},
     "output_type": "display_data"
    }
   ],
   "source": [
    "# Check if independent sampling chains (runs with different random starting points) agree on global odorant valences\n",
    "# If each odorant produces 4 almost perfectly overlapping histograms,\n",
    "# then the fit went well\n",
    "up.plot_global_agreement(samples['ranked'], odorants)"
   ]
  },
  {
   "cell_type": "markdown",
   "metadata": {},
   "source": [
    "## Model Consistency Check: Estimated valences and observed ranks are almost perfectly anti-correlated at the individual level (i.e. a high valence is a low (e.g. 1) rank."
   ]
  },
  {
   "cell_type": "code",
   "execution_count": null,
   "metadata": {},
   "outputs": [],
   "source": [
    "# Distribution of individual-level Pearson Correlation between observed rankings\n",
    "# and estimated latent valences.  Should be close to -1\n",
    "# (since lower ranking is more pleasant, but higher rating is more pleasant).\n",
    "# Differs from exactly -1 due to a) the switch between a cardinal and ordinal measure\n",
    "# and b) the denoising applied by the model\n",
    "up.ranks_vs_values(samples['ranked'], groups)"
   ]
  },
  {
   "cell_type": "markdown",
   "metadata": {},
   "source": [
    "## Show how the group mean valences for each odorant compare.  Order by global mean valence."
   ]
  },
  {
   "cell_type": "code",
   "execution_count": null,
   "metadata": {},
   "outputs": [],
   "source": [
    "up.plot_global_means(groups, odorants, samples['ranked'])"
   ]
  },
  {
   "cell_type": "markdown",
   "metadata": {},
   "source": [
    "## Estimate contributions of each factor using the Bayesian model."
   ]
  },
  {
   "cell_type": "code",
   "execution_count": null,
   "metadata": {},
   "outputs": [],
   "source": [
    "up.plot_sigmas(samples['ranked'], groups)"
   ]
  },
  {
   "cell_type": "markdown",
   "metadata": {},
   "source": [
    "## Verify that when the model is applied to the shuffled ranks, the contribution of universal valence disappears.  This is a negative control."
   ]
  },
  {
   "cell_type": "code",
   "execution_count": 13,
   "metadata": {},
   "outputs": [
    {
     "data": {
      "image/png": "[encoded data removed]",
      "text/plain": [
       "<Figure size 720x360 with 4 Axes>"
      ]
     },
     "metadata": {},
     "output_type": "display_data"
    }
   ],
   "source": [
    "up.plot_sigmas(samples['shuffle-odors-within-culture'], groups)\n",
    "plt.savefig('Figure S6.png', dpi=600, format='png')\n",
    "plt.savefig('Figure S6.pdf', format='pdf')"
   ]
  },
  {
   "cell_type": "markdown",
   "metadata": {},
   "source": [
    "## Valences are very highly correlated across groups (different groups ranks things similarly), but odorants are not really correlated with one another (how a group ranks one odorant does not closely predict how it will rank another odorant)"
   ]
  },
  {
   "cell_type": "code",
   "execution_count": null,
   "metadata": {},
   "outputs": [],
   "source": [
    "up.get_means(samples['ranked'], groups, odorants, 'mu_group')"
   ]
  },
  {
   "cell_type": "code",
   "execution_count": null,
   "metadata": {},
   "outputs": [],
   "source": [
    "up.corr_heatmaps(samples['ranked'], groups, odorants)"
   ]
  },
  {
   "cell_type": "markdown",
   "metadata": {},
   "source": [
    "## For the shuffle control, this correlation structure (among groups) disappears"
   ]
  },
  {
   "cell_type": "code",
   "execution_count": null,
   "metadata": {},
   "outputs": [],
   "source": [
    "up.corr_heatmaps(samples['shuffle-odors-within-culture'], groups, odorants)"
   ]
  },
  {
   "cell_type": "markdown",
   "metadata": {},
   "source": [
    "## PCA shows that there is really only one principal component explaining most of the variance in cross-cultural odor ranking.  Operating in the other direction, on odorants, shows a higher-dimensional structure (recapitulates the point in the figures above)."
   ]
  },
  {
   "cell_type": "code",
   "execution_count": null,
   "metadata": {},
   "outputs": [],
   "source": [
    "up.plot_var_explained(samples['ranked'], groups, odorants)"
   ]
  },
  {
   "cell_type": "markdown",
   "metadata": {},
   "source": [
    "## The model estimates the intra-group standard deviations"
   ]
  },
  {
   "cell_type": "code",
   "execution_count": null,
   "metadata": {},
   "outputs": [],
   "source": [
    "# Individual variability within a group\n",
    "intragroup_std = pd.Series([samples['ranked']['sigma_ind[%d]' % x].mean() for x in range(1, len(groups)+1)], index=groups)\n",
    "intragroup_std.sort_values().to_frame(name='Standard Deviation across Individuals').round(1)"
   ]
  },
  {
   "cell_type": "markdown",
   "metadata": {},
   "source": [
    "## We can examine this more closely for each group, looking at the correlation in estimated odorant valences between individuals.  This shows that the Maniq are ranking in a way which is indistinguishable from random (red dashed line, KS-test p-value shown)"
   ]
  },
  {
   "cell_type": "code",
   "execution_count": null,
   "metadata": {},
   "outputs": [],
   "source": [
    "up.plot_ind_corrs(data['ranked'], samples['ranked'], groups, odorants)"
   ]
  },
  {
   "cell_type": "markdown",
   "metadata": {},
   "source": [
    "## We can look at the groups in a reduced dimension using PCA (big dots are group means, little dots are individuals; many individuals are far away from the mean, illustrating that individual variability (and noise) is large compared to the differences between groups."
   ]
  },
  {
   "cell_type": "code",
   "execution_count": null,
   "metadata": {},
   "outputs": [],
   "source": [
    "up.plot_all_individuals(samples['ranked'], groups, group_ids, odorants)"
   ]
  },
  {
   "cell_type": "markdown",
   "metadata": {},
   "source": [
    "## We can then partition the groups into supergroups and ask if these supergroups explain the observed group structure"
   ]
  },
  {
   "cell_type": "code",
   "execution_count": null,
   "metadata": {},
   "outputs": [],
   "source": [
    "supergroups = {'subsistence': {'Industrial': ['New York City', 'Thai', 'Mexican'],\n",
    "                               'Agricultural': ['Semelai', 'Mah Meri', \"Chachi\", 'Imbabura Quechua'],\n",
    "                               'Hunter-gatherer': ['Maniq', 'Semaq Beri', 'Seri']},\n",
    "               'geography': {'North America': ['New York City', 'Seri', 'Mexican'],\n",
    "                             'South America': [\"Chachi\", 'Imbabura Quechua'],\n",
    "                              'Asia': ['Semelai', 'Mah Meri', 'Maniq', 'Semaq Beri', 'Thai']}}"
   ]
  },
  {
   "cell_type": "code",
   "execution_count": null,
   "metadata": {},
   "outputs": [],
   "source": [
    "# Plot using PCA as above\n",
    "up.plot_supergroups(samples['ranked'], groups, odorants, supergroups, method='PCA')"
   ]
  },
  {
   "cell_type": "code",
   "execution_count": null,
   "metadata": {},
   "outputs": [],
   "source": [
    "# Plot using Multidimensional Scaling, another dimensionality reduction strategy\n",
    "up.plot_supergroups(samples['ranked'], groups, odorants, supergroups, method='MDS')"
   ]
  },
  {
   "cell_type": "markdown",
   "metadata": {},
   "source": [
    "## We next ask whether certain supergroups summarize the group structure.  We compare these groups to random group assignments of the same size to get p-values"
   ]
  },
  {
   "cell_type": "code",
   "execution_count": null,
   "metadata": {},
   "outputs": [],
   "source": [
    "supergroup_stats = up.get_supergroup_stats(samples['ranked'], groups, odorants, supergroups)\n",
    "supergroup_stats.to_frame(name='p')"
   ]
  }
 ],
 "metadata": {
  "kernelspec": {
   "display_name": "Python 3",
   "language": "python",
   "name": "python3"
  },
  "language_info": {
   "codemirror_mode": {
    "name": "ipython",
    "version": 3
   },
   "file_extension": ".py",
   "mimetype": "text/x-python",
   "name": "python",
   "nbconvert_exporter": "python",
   "pygments_lexer": "ipython3",
   "version": "3.9.4"
  },
  "title": "Bayesian Analysis"
 },
 "nbformat": 4,
 "nbformat_minor": 4
}
