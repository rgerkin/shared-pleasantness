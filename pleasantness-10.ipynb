{
 "cells": [
  {
   "cell_type": "markdown",
   "metadata": {},
   "source": [
    "# How well does the DREAM model predict the pleasantness of the 10 molecules in the \"Universal Pleasantness\" project?`"
   ]
  },
  {
   "cell_type": "code",
   "execution_count": 1,
   "metadata": {},
   "outputs": [],
   "source": [
    "%load_ext autoreload\n",
    "%autoreload 2"
   ]
  },
  {
   "cell_type": "code",
   "execution_count": 2,
   "metadata": {},
   "outputs": [],
   "source": [
    "# Built-in or external libraries\n",
    "%matplotlib inline\n",
    "import os\n",
    "import sys\n",
    "import pickle\n",
    "import numpy as np\n",
    "from scipy.stats import pearsonr\n",
    "import matplotlib.pyplot as plt\n",
    "import pandas as pd\n",
    "import pathlib\n",
    "import seaborn as sns\n",
    "sns.set(font_scale=1.5)"
   ]
  },
  {
   "cell_type": "markdown",
   "metadata": {},
   "source": [
    "### 2) Load olfaction prediction libraries"
   ]
  },
  {
   "cell_type": "code",
   "execution_count": 3,
   "metadata": {},
   "outputs": [],
   "source": [
    "# Internal libraries\n",
    "import opc_python\n",
    "# For loading data into dataframes\n",
    "from opc_python.utils import loading\n",
    "# dream contains lots of important functions related to model building\n",
    "# fit2 is specifically subchallenge 2 related (fitting mean and stdev) when the data is ready\n",
    "# params contains functions for obtaining or looking up previously obtained hyperparameters\n",
    "from opc_python.gerkin import dream, params, fit1, fit2\n",
    "OP_PATH = pathlib.Path(opc_python.__file__).parent"
   ]
  },
  {
   "cell_type": "code",
   "execution_count": 30,
   "metadata": {},
   "outputs": [],
   "source": [
    "all_CID_dilutions = loading.get_CID_dilutions(['training', 'leaderboard', 'testset'])"
   ]
  },
  {
   "cell_type": "markdown",
   "metadata": {},
   "source": [
    "### 3) All other settings"
   ]
  },
  {
   "cell_type": "code",
   "execution_count": 8,
   "metadata": {},
   "outputs": [],
   "source": [
    "# Which feature sets do you want to use?\n",
    "FEATURE_SETS = ['dragon', 'episuite', 'morgan', 'nspdk', 'gramian']\n",
    "\n",
    "# Which datasets do you want to train on?\n",
    "# Optionally replace this with some other list of CID/dilution pairs, \n",
    "# e.g. pd.DataFrame([(126, -3), (176, -5), (240, -1)], columns=['CID', 'Dilution'])\n",
    "all_CID_dilutions = loading.get_CID_dilutions(['training', 'leaderboard', 'testset'])\n",
    "#all_CID_dilutions = all_CID_dilutions.to_frame().reset_index(drop=1)\n",
    "\n",
    "# Which datasets do you want to test on?\n",
    "# Optionally replace this with a dataframe of other CIDs/dilution pairs, \n",
    "# e.g. pd.DataFrame([(196, -3), (239, -1), (261, -5), columns=['CID', 'Dilution'])\n",
    "# Wrong:\n",
    "#other_CIDs = [1183, 6549, 3314, 7762, 6054, 18827, 9261, 379, 9609, 10430]\n",
    "# Corrected:\n",
    "other_CIDs = [1183, 6549, 3314, 7762, 6054, 18827, 32594, 379, 8077, 10430]\n",
    "#TRAINING_CID_DILUTIONS = all_CID_dilutions[~all_CID_dilutions['CID'].isin(other_CIDs)]\n",
    "TRAINING_CID_DILUTIONS = all_CID_dilutions[~all_CID_dilutions.get_level_values('CID').isin(other_CIDs)]\n",
    "#TESTING_CID_DILUTIONS = all_CID_dilutions[all_CID_dilutions['CID'].isin(other_CIDs)]\n",
    "TESTING_CID_DILUTIONS = all_CID_dilutions[all_CID_dilutions.get_level_values('CID').isin(other_CIDs)]\n",
    "\n",
    "# Which subjects do you want to build a model for (or for the mean or stdev across subjects)\n",
    "SUBJECT = 'mean' # Other options are 'stdev' or an integer subject number\n",
    "\n",
    "# What dilution do you want to evaluate model quality on (other dilutions will still be used for training)\n",
    "DILUTION = 'gold' # An integer (e.g. -3 for 1/1000) or the values 'high', 'low', or 'gold'\n",
    "# high will be the most concentrated\n",
    "# low will be the least concentrated\n",
    "# gold is -3 for intensity and high for all other descriptors\n",
    "\n",
    "# What descriptors do you want to model?\n",
    "# Use an empty list or `None` for all of them.  \n",
    "DESCRIPTORS = ['Pleasantness']\n",
    "\n",
    "# Number of decision trees to use.  More trees means longer computation time.  \n",
    "# Accuracy saturates beyond ~200\n",
    "N_ESTIMATORS = 250\n",
    "\n",
    "# Save the models that you fit\n",
    "SAVE_MODELS = True\n",
    "\n",
    "# Load the models instead of fitting them\n",
    "LOAD_MODELS = False\n",
    "\n",
    "# Where will the models be?\n",
    "# The location to load/save the model that was not trained on the test data\n",
    "TRAINED_MODELS_PATH = OP_PATH / 'models' / 'models_train_pleas_10.pickle'\n",
    "# The location to load/save the model that uses all the data (including test data)\n",
    "FULL_MODELS_PATH = OP_PATH / 'models' / 'models_full_pleas_10.pickle'\n",
    "\n",
    "# Optional: path to stored .csv files of features. Not necessary if using DREAM molecules\n",
    "FEATURES_PATH = OP_PATH / 'features'"
   ]
  },
  {
   "cell_type": "code",
   "execution_count": 62,
   "metadata": {},
   "outputs": [
    {
     "data": {
      "text/plain": [
       "MultiIndex([(  126, -3.0),\n",
       "            (  126, -1.0),\n",
       "            (  176, -7.0),\n",
       "            (  176, -5.0),\n",
       "            (  177, -5.0),\n",
       "            (  177, -3.0),\n",
       "            (  180, -3.0),\n",
       "            (  180, -1.0),\n",
       "            (  196, -3.0),\n",
       "            (  196, -1.0),\n",
       "            ...\n",
       "            ( 7762, -5.0),\n",
       "            ( 7762, -3.0),\n",
       "            ( 8077, -5.0),\n",
       "            ( 8077, -3.0),\n",
       "            (10430, -7.0),\n",
       "            (10430, -5.0),\n",
       "            (18827, -5.0),\n",
       "            (18827, -3.0),\n",
       "            (32594, -5.0),\n",
       "            (32594, -3.0)],\n",
       "           names=['CID', 'Dilution'], length=910)"
      ]
     },
     "execution_count": 62,
     "metadata": {},
     "output_type": "execute_result"
    }
   ],
   "source": [
    "loading.pool_CID_dilutions([TRAINING_CID_DILUTIONS, TESTING_CID_DILUTIONS])"
   ]
  },
  {
   "cell_type": "markdown",
   "metadata": {},
   "source": [
    "### 4) Load all data"
   ]
  },
  {
   "cell_type": "code",
   "execution_count": 63,
   "metadata": {
    "collapsed": false,
    "jupyter": {
     "outputs_hidden": false
    }
   },
   "outputs": [
    {
     "data": {
      "text/html": [
       "<div>\n",
       "<style scoped>\n",
       "    .dataframe tbody tr th:only-of-type {\n",
       "        vertical-align: middle;\n",
       "    }\n",
       "\n",
       "    .dataframe tbody tr th {\n",
       "        vertical-align: top;\n",
       "    }\n",
       "\n",
       "    .dataframe thead th {\n",
       "        text-align: right;\n",
       "    }\n",
       "</style>\n",
       "<table border=\"1\" class=\"dataframe\">\n",
       "  <thead>\n",
       "    <tr style=\"text-align: right;\">\n",
       "      <th></th>\n",
       "      <th></th>\n",
       "      <th></th>\n",
       "      <th>Subject</th>\n",
       "      <th>1</th>\n",
       "      <th>2</th>\n",
       "      <th>3</th>\n",
       "      <th>4</th>\n",
       "      <th>5</th>\n",
       "      <th>6</th>\n",
       "      <th>7</th>\n",
       "      <th>8</th>\n",
       "      <th>9</th>\n",
       "      <th>10</th>\n",
       "      <th>...</th>\n",
       "      <th>46</th>\n",
       "      <th>47</th>\n",
       "      <th>48</th>\n",
       "      <th>49</th>\n",
       "      <th>50</th>\n",
       "      <th>51</th>\n",
       "      <th>52</th>\n",
       "      <th>53</th>\n",
       "      <th>54</th>\n",
       "      <th>55</th>\n",
       "    </tr>\n",
       "    <tr>\n",
       "      <th>Descriptor</th>\n",
       "      <th>CID</th>\n",
       "      <th>Dilution</th>\n",
       "      <th>Replicate</th>\n",
       "      <th></th>\n",
       "      <th></th>\n",
       "      <th></th>\n",
       "      <th></th>\n",
       "      <th></th>\n",
       "      <th></th>\n",
       "      <th></th>\n",
       "      <th></th>\n",
       "      <th></th>\n",
       "      <th></th>\n",
       "      <th></th>\n",
       "      <th></th>\n",
       "      <th></th>\n",
       "      <th></th>\n",
       "      <th></th>\n",
       "      <th></th>\n",
       "      <th></th>\n",
       "      <th></th>\n",
       "      <th></th>\n",
       "      <th></th>\n",
       "      <th></th>\n",
       "    </tr>\n",
       "  </thead>\n",
       "  <tbody>\n",
       "    <tr>\n",
       "      <td rowspan=\"5\" valign=\"top\">Acid</td>\n",
       "      <td rowspan=\"2\" valign=\"top\">126</td>\n",
       "      <td>-3.0</td>\n",
       "      <td>0</td>\n",
       "      <td>0.0</td>\n",
       "      <td>0.0</td>\n",
       "      <td>0.0</td>\n",
       "      <td>0.0</td>\n",
       "      <td>NaN</td>\n",
       "      <td>NaN</td>\n",
       "      <td>0.0</td>\n",
       "      <td>0.0</td>\n",
       "      <td>NaN</td>\n",
       "      <td>0.0</td>\n",
       "      <td>...</td>\n",
       "      <td>NaN</td>\n",
       "      <td>NaN</td>\n",
       "      <td>0.0</td>\n",
       "      <td>0.0</td>\n",
       "      <td>0.0</td>\n",
       "      <td>0.0</td>\n",
       "      <td>NaN</td>\n",
       "      <td>NaN</td>\n",
       "      <td>NaN</td>\n",
       "      <td>0.0</td>\n",
       "    </tr>\n",
       "    <tr>\n",
       "      <td>-1.0</td>\n",
       "      <td>0</td>\n",
       "      <td>0.0</td>\n",
       "      <td>0.0</td>\n",
       "      <td>NaN</td>\n",
       "      <td>0.0</td>\n",
       "      <td>0.0</td>\n",
       "      <td>NaN</td>\n",
       "      <td>0.0</td>\n",
       "      <td>0.0</td>\n",
       "      <td>0.0</td>\n",
       "      <td>0.0</td>\n",
       "      <td>...</td>\n",
       "      <td>32.0</td>\n",
       "      <td>0.0</td>\n",
       "      <td>NaN</td>\n",
       "      <td>0.0</td>\n",
       "      <td>0.0</td>\n",
       "      <td>0.0</td>\n",
       "      <td>1.0</td>\n",
       "      <td>0.0</td>\n",
       "      <td>0.0</td>\n",
       "      <td>0.0</td>\n",
       "    </tr>\n",
       "    <tr>\n",
       "      <td rowspan=\"2\" valign=\"top\">176</td>\n",
       "      <td>-7.0</td>\n",
       "      <td>0</td>\n",
       "      <td>NaN</td>\n",
       "      <td>NaN</td>\n",
       "      <td>NaN</td>\n",
       "      <td>0.0</td>\n",
       "      <td>NaN</td>\n",
       "      <td>NaN</td>\n",
       "      <td>NaN</td>\n",
       "      <td>NaN</td>\n",
       "      <td>NaN</td>\n",
       "      <td>NaN</td>\n",
       "      <td>...</td>\n",
       "      <td>NaN</td>\n",
       "      <td>NaN</td>\n",
       "      <td>1.0</td>\n",
       "      <td>NaN</td>\n",
       "      <td>0.0</td>\n",
       "      <td>0.0</td>\n",
       "      <td>NaN</td>\n",
       "      <td>NaN</td>\n",
       "      <td>NaN</td>\n",
       "      <td>NaN</td>\n",
       "    </tr>\n",
       "    <tr>\n",
       "      <td>-5.0</td>\n",
       "      <td>0</td>\n",
       "      <td>NaN</td>\n",
       "      <td>0.0</td>\n",
       "      <td>0.0</td>\n",
       "      <td>NaN</td>\n",
       "      <td>0.0</td>\n",
       "      <td>NaN</td>\n",
       "      <td>NaN</td>\n",
       "      <td>0.0</td>\n",
       "      <td>NaN</td>\n",
       "      <td>NaN</td>\n",
       "      <td>...</td>\n",
       "      <td>NaN</td>\n",
       "      <td>NaN</td>\n",
       "      <td>NaN</td>\n",
       "      <td>NaN</td>\n",
       "      <td>0.0</td>\n",
       "      <td>NaN</td>\n",
       "      <td>NaN</td>\n",
       "      <td>NaN</td>\n",
       "      <td>0.0</td>\n",
       "      <td>NaN</td>\n",
       "    </tr>\n",
       "    <tr>\n",
       "      <td>177</td>\n",
       "      <td>-5.0</td>\n",
       "      <td>0</td>\n",
       "      <td>0.0</td>\n",
       "      <td>0.0</td>\n",
       "      <td>NaN</td>\n",
       "      <td>0.0</td>\n",
       "      <td>NaN</td>\n",
       "      <td>NaN</td>\n",
       "      <td>0.0</td>\n",
       "      <td>NaN</td>\n",
       "      <td>NaN</td>\n",
       "      <td>0.0</td>\n",
       "      <td>...</td>\n",
       "      <td>0.0</td>\n",
       "      <td>NaN</td>\n",
       "      <td>NaN</td>\n",
       "      <td>0.0</td>\n",
       "      <td>0.0</td>\n",
       "      <td>0.0</td>\n",
       "      <td>2.0</td>\n",
       "      <td>0.0</td>\n",
       "      <td>NaN</td>\n",
       "      <td>NaN</td>\n",
       "    </tr>\n",
       "  </tbody>\n",
       "</table>\n",
       "<p>5 rows × 55 columns</p>\n",
       "</div>"
      ],
      "text/plain": [
       "Subject                             1    2    3    4    5   6    7    8    9   \\\n",
       "Descriptor CID Dilution Replicate                                               \n",
       "Acid       126 -3.0     0          0.0  0.0  0.0  0.0  NaN NaN  0.0  0.0  NaN   \n",
       "               -1.0     0          0.0  0.0  NaN  0.0  0.0 NaN  0.0  0.0  0.0   \n",
       "           176 -7.0     0          NaN  NaN  NaN  0.0  NaN NaN  NaN  NaN  NaN   \n",
       "               -5.0     0          NaN  0.0  0.0  NaN  0.0 NaN  NaN  0.0  NaN   \n",
       "           177 -5.0     0          0.0  0.0  NaN  0.0  NaN NaN  0.0  NaN  NaN   \n",
       "\n",
       "Subject                             10  ...    46   47   48   49   50   51  \\\n",
       "Descriptor CID Dilution Replicate       ...                                  \n",
       "Acid       126 -3.0     0          0.0  ...   NaN  NaN  0.0  0.0  0.0  0.0   \n",
       "               -1.0     0          0.0  ...  32.0  0.0  NaN  0.0  0.0  0.0   \n",
       "           176 -7.0     0          NaN  ...   NaN  NaN  1.0  NaN  0.0  0.0   \n",
       "               -5.0     0          NaN  ...   NaN  NaN  NaN  NaN  0.0  NaN   \n",
       "           177 -5.0     0          0.0  ...   0.0  NaN  NaN  0.0  0.0  0.0   \n",
       "\n",
       "Subject                             52   53   54   55  \n",
       "Descriptor CID Dilution Replicate                      \n",
       "Acid       126 -3.0     0          NaN  NaN  NaN  0.0  \n",
       "               -1.0     0          1.0  0.0  0.0  0.0  \n",
       "           176 -7.0     0          NaN  NaN  NaN  NaN  \n",
       "               -5.0     0          NaN  NaN  0.0  NaN  \n",
       "           177 -5.0     0          2.0  0.0  NaN  NaN  \n",
       "\n",
       "[5 rows x 55 columns]"
      ]
     },
     "execution_count": 63,
     "metadata": {},
     "output_type": "execute_result"
    }
   ],
   "source": [
    "# Get all descriptor names in DREAM paper format\n",
    "descriptors = loading.get_descriptors(format=True)\n",
    "\n",
    "# Get all CIDs\n",
    "all_CID_dilutions = loading.pool_CID_dilutions([TRAINING_CID_DILUTIONS, TESTING_CID_DILUTIONS])\n",
    "all_CIDs = all_CID_dilutions.get_level_values('CID').unique()\n",
    "\n",
    "raw_perceptual_data = loading.load_raw_bmc_data()\n",
    "perceptual_data = loading.format_bmc_data(raw_perceptual_data,\n",
    "                                          only_dream_subjects=False, # Whether to only keep DREAM subjects\n",
    "                                          only_dream_descriptors=True, # Whether to only keep DREAM descriptors\n",
    "                                          only_dream_molecules=True) # Whether to only keep DREAM molecules)\n",
    "perceptual_data.head()"
   ]
  },
  {
   "cell_type": "code",
   "execution_count": 64,
   "metadata": {
    "collapsed": false,
    "jupyter": {
     "outputs_hidden": false
    }
   },
   "outputs": [
    {
     "name": "stdout",
     "output_type": "stream",
     "text": [
      "Dragon has 4869 features for 476 molecules.\n",
      "Episuite has 62 features for 476 molecules.\n",
      "Morgan has 2437 features for 476 molecules.\n",
      "Nspdk has 6163 features for 476 molecules.\n",
      "Gramian has 2437 features for 476 molecules.\n",
      "There are now 15968 total features.\n"
     ]
    },
    {
     "data": {
      "text/html": [
       "<div>\n",
       "<style scoped>\n",
       "    .dataframe tbody tr th:only-of-type {\n",
       "        vertical-align: middle;\n",
       "    }\n",
       "\n",
       "    .dataframe tbody tr th {\n",
       "        vertical-align: top;\n",
       "    }\n",
       "\n",
       "    .dataframe thead tr th {\n",
       "        text-align: left;\n",
       "    }\n",
       "\n",
       "    .dataframe thead tr:last-of-type th {\n",
       "        text-align: right;\n",
       "    }\n",
       "</style>\n",
       "<table border=\"1\" class=\"dataframe\">\n",
       "  <thead>\n",
       "    <tr>\n",
       "      <th></th>\n",
       "      <th colspan=\"10\" halign=\"left\">dragon</th>\n",
       "      <th>...</th>\n",
       "      <th colspan=\"10\" halign=\"left\">gramian</th>\n",
       "    </tr>\n",
       "    <tr>\n",
       "      <th></th>\n",
       "      <th>complexity from pubmed</th>\n",
       "      <th>MW</th>\n",
       "      <th>AMW</th>\n",
       "      <th>Sv</th>\n",
       "      <th>Se</th>\n",
       "      <th>Sp</th>\n",
       "      <th>Si</th>\n",
       "      <th>Mv</th>\n",
       "      <th>Me</th>\n",
       "      <th>Mp</th>\n",
       "      <th>...</th>\n",
       "      <th>2427</th>\n",
       "      <th>2428</th>\n",
       "      <th>2429</th>\n",
       "      <th>2430</th>\n",
       "      <th>2431</th>\n",
       "      <th>2432</th>\n",
       "      <th>2433</th>\n",
       "      <th>2434</th>\n",
       "      <th>2435</th>\n",
       "      <th>2436</th>\n",
       "    </tr>\n",
       "    <tr>\n",
       "      <th>CID</th>\n",
       "      <th></th>\n",
       "      <th></th>\n",
       "      <th></th>\n",
       "      <th></th>\n",
       "      <th></th>\n",
       "      <th></th>\n",
       "      <th></th>\n",
       "      <th></th>\n",
       "      <th></th>\n",
       "      <th></th>\n",
       "      <th></th>\n",
       "      <th></th>\n",
       "      <th></th>\n",
       "      <th></th>\n",
       "      <th></th>\n",
       "      <th></th>\n",
       "      <th></th>\n",
       "      <th></th>\n",
       "      <th></th>\n",
       "      <th></th>\n",
       "      <th></th>\n",
       "    </tr>\n",
       "  </thead>\n",
       "  <tbody>\n",
       "    <tr>\n",
       "      <td>126</td>\n",
       "      <td>93.1</td>\n",
       "      <td>122.13</td>\n",
       "      <td>8.142</td>\n",
       "      <td>10.010</td>\n",
       "      <td>15.305</td>\n",
       "      <td>10.193</td>\n",
       "      <td>16.664</td>\n",
       "      <td>0.667</td>\n",
       "      <td>1.020</td>\n",
       "      <td>0.680</td>\n",
       "      <td>...</td>\n",
       "      <td>0.001105</td>\n",
       "      <td>0.005903</td>\n",
       "      <td>0.194120</td>\n",
       "      <td>0.009947</td>\n",
       "      <td>0.197298</td>\n",
       "      <td>0.025006</td>\n",
       "      <td>0.246386</td>\n",
       "      <td>0.170887</td>\n",
       "      <td>0.043503</td>\n",
       "      <td>0.076089</td>\n",
       "    </tr>\n",
       "    <tr>\n",
       "      <td>176</td>\n",
       "      <td>31.0</td>\n",
       "      <td>60.06</td>\n",
       "      <td>7.508</td>\n",
       "      <td>4.483</td>\n",
       "      <td>8.422</td>\n",
       "      <td>4.432</td>\n",
       "      <td>9.249</td>\n",
       "      <td>0.560</td>\n",
       "      <td>1.053</td>\n",
       "      <td>0.554</td>\n",
       "      <td>...</td>\n",
       "      <td>0.031582</td>\n",
       "      <td>0.031028</td>\n",
       "      <td>0.049205</td>\n",
       "      <td>0.029624</td>\n",
       "      <td>0.015334</td>\n",
       "      <td>0.063330</td>\n",
       "      <td>0.013679</td>\n",
       "      <td>0.014956</td>\n",
       "      <td>0.087638</td>\n",
       "      <td>0.025581</td>\n",
       "    </tr>\n",
       "    <tr>\n",
       "      <td>177</td>\n",
       "      <td>10.3</td>\n",
       "      <td>44.06</td>\n",
       "      <td>6.294</td>\n",
       "      <td>3.768</td>\n",
       "      <td>7.095</td>\n",
       "      <td>3.977</td>\n",
       "      <td>8.040</td>\n",
       "      <td>0.538</td>\n",
       "      <td>1.014</td>\n",
       "      <td>0.568</td>\n",
       "      <td>...</td>\n",
       "      <td>0.046884</td>\n",
       "      <td>0.063734</td>\n",
       "      <td>0.014951</td>\n",
       "      <td>0.118445</td>\n",
       "      <td>0.026979</td>\n",
       "      <td>0.128351</td>\n",
       "      <td>0.043521</td>\n",
       "      <td>0.076143</td>\n",
       "      <td>0.045424</td>\n",
       "      <td>0.054192</td>\n",
       "    </tr>\n",
       "    <tr>\n",
       "      <td>180</td>\n",
       "      <td>26.3</td>\n",
       "      <td>58.09</td>\n",
       "      <td>5.809</td>\n",
       "      <td>5.295</td>\n",
       "      <td>9.978</td>\n",
       "      <td>5.739</td>\n",
       "      <td>11.455</td>\n",
       "      <td>0.530</td>\n",
       "      <td>0.998</td>\n",
       "      <td>0.574</td>\n",
       "      <td>...</td>\n",
       "      <td>0.098367</td>\n",
       "      <td>0.112621</td>\n",
       "      <td>0.021022</td>\n",
       "      <td>0.155485</td>\n",
       "      <td>0.043382</td>\n",
       "      <td>0.152893</td>\n",
       "      <td>0.055474</td>\n",
       "      <td>0.074125</td>\n",
       "      <td>0.095945</td>\n",
       "      <td>0.085333</td>\n",
       "    </tr>\n",
       "    <tr>\n",
       "      <td>196</td>\n",
       "      <td>114.0</td>\n",
       "      <td>146.16</td>\n",
       "      <td>7.308</td>\n",
       "      <td>11.493</td>\n",
       "      <td>20.727</td>\n",
       "      <td>11.625</td>\n",
       "      <td>22.914</td>\n",
       "      <td>0.575</td>\n",
       "      <td>1.036</td>\n",
       "      <td>0.581</td>\n",
       "      <td>...</td>\n",
       "      <td>0.116153</td>\n",
       "      <td>0.085972</td>\n",
       "      <td>0.033306</td>\n",
       "      <td>0.078286</td>\n",
       "      <td>0.033030</td>\n",
       "      <td>0.114937</td>\n",
       "      <td>0.026623</td>\n",
       "      <td>0.018514</td>\n",
       "      <td>0.175366</td>\n",
       "      <td>0.056830</td>\n",
       "    </tr>\n",
       "  </tbody>\n",
       "</table>\n",
       "<p>5 rows × 15968 columns</p>\n",
       "</div>"
      ],
      "text/plain": [
       "                    dragon                                                 \\\n",
       "    complexity from pubmed      MW    AMW      Sv      Se      Sp      Si   \n",
       "CID                                                                         \n",
       "126                   93.1  122.13  8.142  10.010  15.305  10.193  16.664   \n",
       "176                   31.0   60.06  7.508   4.483   8.422   4.432   9.249   \n",
       "177                   10.3   44.06  6.294   3.768   7.095   3.977   8.040   \n",
       "180                   26.3   58.09  5.809   5.295   9.978   5.739  11.455   \n",
       "196                  114.0  146.16  7.308  11.493  20.727  11.625  22.914   \n",
       "\n",
       "                          ...   gramian                                \\\n",
       "        Mv     Me     Mp  ...      2427      2428      2429      2430   \n",
       "CID                       ...                                           \n",
       "126  0.667  1.020  0.680  ...  0.001105  0.005903  0.194120  0.009947   \n",
       "176  0.560  1.053  0.554  ...  0.031582  0.031028  0.049205  0.029624   \n",
       "177  0.538  1.014  0.568  ...  0.046884  0.063734  0.014951  0.118445   \n",
       "180  0.530  0.998  0.574  ...  0.098367  0.112621  0.021022  0.155485   \n",
       "196  0.575  1.036  0.581  ...  0.116153  0.085972  0.033306  0.078286   \n",
       "\n",
       "                                                                 \n",
       "         2431      2432      2433      2434      2435      2436  \n",
       "CID                                                              \n",
       "126  0.197298  0.025006  0.246386  0.170887  0.043503  0.076089  \n",
       "176  0.015334  0.063330  0.013679  0.014956  0.087638  0.025581  \n",
       "177  0.026979  0.128351  0.043521  0.076143  0.045424  0.054192  \n",
       "180  0.043382  0.152893  0.055474  0.074125  0.095945  0.085333  \n",
       "196  0.033030  0.114937  0.026623  0.018514  0.175366  0.056830  \n",
       "\n",
       "[5 rows x 15968 columns]"
      ]
     },
     "execution_count": 64,
     "metadata": {},
     "output_type": "execute_result"
    }
   ],
   "source": [
    "# Get all molecular data, i.e. physicochemical features\n",
    "molecular_data = loading.get_molecular_data(FEATURE_SETS, all_CIDs)\n",
    "molecular_data.head()"
   ]
  },
  {
   "cell_type": "markdown",
   "metadata": {},
   "source": [
    "### 5) Build the matrix of predictors and the vectors of target data"
   ]
  },
  {
   "cell_type": "code",
   "execution_count": 19,
   "metadata": {
    "collapsed": false,
    "jupyter": {
     "outputs_hidden": false
    }
   },
   "outputs": [
    {
     "name": "stderr",
     "output_type": "stream",
     "text": [
      "/opt/conda/lib/python3.7/site-packages/pandas/core/reshape/merge.py:617: UserWarning: merging between different levels can give an unintended result (2 levels on the left, 1 on the right)\n",
      "  warnings.warn(msg, UserWarning)\n"
     ]
    },
    {
     "name": "stdout",
     "output_type": "stream",
     "text": [
      "The X matrix now has shape (910x8010) molecules by non-NaN good molecular descriptors\n",
      "3082 descriptors come from dragon.\n",
      "2435 descriptors come from gramian.\n",
      "2435 descriptors come from morgan.\n",
      "56 descriptors come from episuite.\n",
      "1 descriptors come from nspdk.\n"
     ]
    }
   ],
   "source": [
    "# Create the X matrix from the molecular data in the training set.\n",
    "# Several other arguments are available; see dream.py\n",
    "X, metadata = dream.make_X(molecular_data, all_CID_dilutions)"
   ]
  },
  {
   "cell_type": "code",
   "execution_count": 20,
   "metadata": {},
   "outputs": [],
   "source": [
    "# TO DO: Get a fuller list of nspdk features with fewer NaNs so more are retained by `dream.make_X`"
   ]
  },
  {
   "cell_type": "code",
   "execution_count": 21,
   "metadata": {
    "collapsed": false,
    "jupyter": {
     "outputs_hidden": false
    }
   },
   "outputs": [],
   "source": [
    "# Create the Y matrix from the perceptual data in the training set.\n",
    "# Several other arguments are available; see dream.py\n",
    "Y = dream.make_Y(perceptual_data)"
   ]
  },
  {
   "cell_type": "code",
   "execution_count": 22,
   "metadata": {},
   "outputs": [
    {
     "name": "stdout",
     "output_type": "stream",
     "text": [
      "There are -42 CID/dilution combinations for which we have molecular but not perceptual data, 42 for which we have perceptual but not molecular data, and 910 for which we have both. \n"
     ]
    },
    {
     "name": "stderr",
     "output_type": "stream",
     "text": [
      "/opt/conda/lib/python3.7/site-packages/pandas/core/reshape/merge.py:617: UserWarning: merging between different levels can give an unintended result (1 levels on the left, 2 on the right)\n",
      "  warnings.warn(msg, UserWarning)\n"
     ]
    }
   ],
   "source": [
    "# Make sure that our molecular and perceptual data are aligned. \n",
    "left = X.join(Y, how='left')\n",
    "right = X.join(Y, how='right')\n",
    "inner = X.join(Y, how='inner')\n",
    "print((\"There are %d CID/dilution combinations for which we have molecular but not \"\n",
    "       \"perceptual data, %d for which we have perceptual but not molecular data, \"\n",
    "       \"and %d for which we have both. \") % (len(X) - len(right), len(Y) - len(left), len(inner)))\n",
    "\n",
    "# Remove those CID/dilution combinations from the molecular data\n",
    "X = X.loc[inner.index]\n",
    "Y = Y.loc[inner.index]"
   ]
  },
  {
   "cell_type": "code",
   "execution_count": 26,
   "metadata": {},
   "outputs": [],
   "source": [
    "# Update the testing CID/dilutions combinations to reflect this and create tuples for easy selection\n",
    "training_CID_dilutions = TRAINING_CID_DILUTIONS.values # As CID/dilution tuples\n",
    "testing_CID_dilutions = TESTING_CID_DILUTIONS.values # As CID/dilution tuples\n",
    "we_have = list(inner.index) # Tuples of CID/dilutions we have both molecular and perceptual data for\n",
    "training_CID_dilutions = list(set(training_CID_dilutions).intersection(we_have)) # Restrict the set we will train on\n",
    "testing_CID_dilutions = list(set(testing_CID_dilutions).intersection(we_have)) # Restrict the set we will test on"
   ]
  },
  {
   "cell_type": "markdown",
   "metadata": {},
   "source": [
    "### 6) Split into training and testing sets"
   ]
  },
  {
   "cell_type": "code",
   "execution_count": 27,
   "metadata": {},
   "outputs": [
    {
     "name": "stdout",
     "output_type": "stream",
     "text": [
      "We now have 891 CID/dilution combinations for training and 19 for testing\n"
     ]
    }
   ],
   "source": [
    "X_train = X.loc[training_CID_dilutions]\n",
    "X_test = X.loc[testing_CID_dilutions]\n",
    "Y_train = Y.loc[training_CID_dilutions]\n",
    "Y_test = Y.loc[testing_CID_dilutions]\n",
    "assert X_train.shape[0] == Y_train.shape[0]\n",
    "assert X_test.shape[0] == Y_test.shape[0]\n",
    "print(\"We now have %d CID/dilution combinations for training and %d for testing\" \\\n",
    "      % (X_train.shape[0], X_test.shape[0]))"
   ]
  },
  {
   "cell_type": "code",
   "execution_count": 28,
   "metadata": {},
   "outputs": [],
   "source": [
    "# Impute missing values for perceptual training data\n",
    "Y_imp = dream.impute(Y_train, 'median')"
   ]
  },
  {
   "cell_type": "markdown",
   "metadata": {},
   "source": [
    "### 7) Load previously computed hyperparameters for model fitting"
   ]
  },
  {
   "cell_type": "code",
   "execution_count": 29,
   "metadata": {},
   "outputs": [
    {
     "data": {
      "text/html": [
       "<div>\n",
       "<style scoped>\n",
       "    .dataframe tbody tr th:only-of-type {\n",
       "        vertical-align: middle;\n",
       "    }\n",
       "\n",
       "    .dataframe tbody tr th {\n",
       "        vertical-align: top;\n",
       "    }\n",
       "\n",
       "    .dataframe thead th {\n",
       "        text-align: right;\n",
       "    }\n",
       "</style>\n",
       "<table border=\"1\" class=\"dataframe\">\n",
       "  <thead>\n",
       "    <tr style=\"text-align: right;\">\n",
       "      <th></th>\n",
       "      <th>use_et</th>\n",
       "      <th>max_features</th>\n",
       "      <th>max_depth</th>\n",
       "      <th>min_samples_leaf</th>\n",
       "      <th>regularize</th>\n",
       "      <th>use_mask</th>\n",
       "    </tr>\n",
       "  </thead>\n",
       "  <tbody>\n",
       "    <tr>\n",
       "      <td>Intensity</td>\n",
       "      <td>True</td>\n",
       "      <td>None</td>\n",
       "      <td>None</td>\n",
       "      <td>1</td>\n",
       "      <td>0.8</td>\n",
       "      <td>False</td>\n",
       "    </tr>\n",
       "    <tr>\n",
       "      <td>Pleasantness</td>\n",
       "      <td>False</td>\n",
       "      <td>None</td>\n",
       "      <td>None</td>\n",
       "      <td>1</td>\n",
       "      <td>0.7</td>\n",
       "      <td>False</td>\n",
       "    </tr>\n",
       "    <tr>\n",
       "      <td>Bakery</td>\n",
       "      <td>False</td>\n",
       "      <td>None</td>\n",
       "      <td>6</td>\n",
       "      <td>1</td>\n",
       "      <td>0.9</td>\n",
       "      <td>False</td>\n",
       "    </tr>\n",
       "    <tr>\n",
       "      <td>Sweet</td>\n",
       "      <td>False</td>\n",
       "      <td>None</td>\n",
       "      <td>None</td>\n",
       "      <td>1</td>\n",
       "      <td>0.8</td>\n",
       "      <td>False</td>\n",
       "    </tr>\n",
       "    <tr>\n",
       "      <td>Fruit</td>\n",
       "      <td>False</td>\n",
       "      <td>None</td>\n",
       "      <td>15</td>\n",
       "      <td>1</td>\n",
       "      <td>0.8</td>\n",
       "      <td>False</td>\n",
       "    </tr>\n",
       "  </tbody>\n",
       "</table>\n",
       "</div>"
      ],
      "text/plain": [
       "             use_et max_features max_depth min_samples_leaf regularize  \\\n",
       "Intensity      True         None      None                1        0.8   \n",
       "Pleasantness  False         None      None                1        0.7   \n",
       "Bakery        False         None         6                1        0.9   \n",
       "Sweet         False         None      None                1        0.8   \n",
       "Fruit         False         None        15                1        0.8   \n",
       "\n",
       "             use_mask  \n",
       "Intensity       False  \n",
       "Pleasantness    False  \n",
       "Bakery          False  \n",
       "Sweet           False  \n",
       "Fruit           False  "
      ]
     },
     "execution_count": 29,
     "metadata": {},
     "output_type": "execute_result"
    }
   ],
   "source": [
    "# Load hyperparameters previously obtained via cross-validation\n",
    "# use_et = use ExtraTrees instead of RandomForest\n",
    "# regularize = balance between subject-specific fits and population fits (not used for mean prediction)\n",
    "# use_mask = use masked data instead of imputed data for training\n",
    "hp = params.get_hyperparams('mean')\n",
    "hp.head()"
   ]
  },
  {
   "cell_type": "code",
   "execution_count": 30,
   "metadata": {
    "collapsed": false,
    "jupyter": {
     "outputs_hidden": false
    }
   },
   "outputs": [],
   "source": [
    "# Determine translation parameters \n",
    "# (for translating mean predictions into standard deviation predictions)\n",
    "trans_params = params.get_trans_params(Y, descriptors, plot=False)"
   ]
  },
  {
   "cell_type": "markdown",
   "metadata": {},
   "source": [
    "### 8) Fit the models for each descriptor"
   ]
  },
  {
   "cell_type": "code",
   "execution_count": 31,
   "metadata": {},
   "outputs": [
    {
     "name": "stdout",
     "output_type": "stream",
     "text": [
      "[-----------------------100%---------------------] 1 out of 1 complete (All descriptors' models have been fit)\n"
     ]
    }
   ],
   "source": [
    "# Increase n_estimators to get better fits; full model uses ~100.  \n",
    "# Set std to True to also predict standard deviations\n",
    "if LOAD_MODELS:\n",
    "    with open(TRAINED_MODELS_PATH, 'rb') as f:\n",
    "        models, _ = pickle.load(f)\n",
    "else:\n",
    "    models = fit2.rfc_fit_models(X_train, # Molecular data for training\n",
    "                                 Y_train, # Perceptual data for training\n",
    "                                 Y_imp, # Perceptual data with missing values imputed\n",
    "                                 hp, # Dataframe of hyperparameters for each descriptor\n",
    "                                 n_estimators=N_ESTIMATORS, # Number of decision trees\n",
    "                                 std=(SUBJECT=='StDev'), # Whether to fit models for the standard deviatio\n",
    "                                 descriptors=DESCRIPTORS)"
   ]
  },
  {
   "cell_type": "code",
   "execution_count": 32,
   "metadata": {},
   "outputs": [],
   "source": [
    "if SAVE_MODELS:\n",
    "    with open(TRAINED_MODELS_PATH, 'wb') as f:\n",
    "        pickle.dump((models, list(X_train)), f) # Store the models and the features and feature values they were trained on"
   ]
  },
  {
   "cell_type": "markdown",
   "metadata": {},
   "source": [
    "### 9) In-sample predictions"
   ]
  },
  {
   "cell_type": "code",
   "execution_count": 33,
   "metadata": {},
   "outputs": [
    {
     "data": {
      "text/plain": [
       "Pleasantness    0.985039\n",
       "Name: R, dtype: float64"
      ]
     },
     "execution_count": 33,
     "metadata": {},
     "output_type": "execute_result"
    }
   ],
   "source": [
    "# Get predicted ratings using the models applied to the test molecular data, restricted to DILUTION\n",
    "predicted = fit2.rfc_get_predictions(models, # The models for each descriptor that you just fit or loaded \n",
    "                                     X_train, # Molecular data for testing\n",
    "                                     dilution=DILUTION) # A dilution to restrict testing to\n",
    "\n",
    "# Get the observed data for the test molecules, restricted to DILUTION\n",
    "observed = fit2.get_observed(Y_train, # Perceptual data for testing\n",
    "                             dilution=DILUTION) # A dilution to restrict testing to\n",
    "\n",
    "fit2.summarize_fit(predicted, observed, 'mean', DESCRIPTORS)"
   ]
  },
  {
   "cell_type": "markdown",
   "metadata": {},
   "source": [
    "### 10) Make predictions on the testset data for each model and descriptor"
   ]
  },
  {
   "cell_type": "code",
   "execution_count": 34,
   "metadata": {},
   "outputs": [],
   "source": [
    "# Get predicted ratings using the models applied to the test molecular data, restricted to DILUTION\n",
    "predicted_out = fit2.rfc_get_predictions(models, # The models for each descriptor that you just fit or loaded \n",
    "                                         X_test, # Molecular data for testing\n",
    "                                         dilution=DILUTION) # A dilution to restrict testing to"
   ]
  },
  {
   "cell_type": "markdown",
   "metadata": {},
   "source": [
    "### 11) Check predictions against testset data"
   ]
  },
  {
   "cell_type": "code",
   "execution_count": 35,
   "metadata": {},
   "outputs": [],
   "source": [
    "# Get the observed data for the test molecules, restricted to DILUTION\n",
    "observed = fit2.get_observed(Y_test, # Perceptual data for testing\n",
    "                             dilution=DILUTION) # A dilution to restrict testing to"
   ]
  },
  {
   "cell_type": "code",
   "execution_count": 36,
   "metadata": {},
   "outputs": [
    {
     "data": {
      "text/plain": [
       "Pleasantness    0.859753\n",
       "Name: R, dtype: float64"
      ]
     },
     "execution_count": 36,
     "metadata": {},
     "output_type": "execute_result"
    }
   ],
   "source": [
    "fit2.summarize_fit(predicted_out, observed, 'mean', DESCRIPTORS)"
   ]
  },
  {
   "cell_type": "markdown",
   "metadata": {},
   "source": [
    "### 12) Fit models on all data and save models for future samples"
   ]
  },
  {
   "cell_type": "code",
   "execution_count": 37,
   "metadata": {},
   "outputs": [],
   "source": [
    "# Impute missing values for all perceptual data\n",
    "Y_imp = dream.impute(Y, 'median')"
   ]
  },
  {
   "cell_type": "code",
   "execution_count": 38,
   "metadata": {},
   "outputs": [
    {
     "name": "stdout",
     "output_type": "stream",
     "text": [
      "[-----------------------100%---------------------] 1 out of 1 complete (All descriptors' models have been fit)\n"
     ]
    }
   ],
   "source": [
    "if LOAD_MODELS:\n",
    "    with open(FULL_MODELS_PATH, 'rb') as f:\n",
    "        models, _ = pickle.load(f)\n",
    "\n",
    "else:\n",
    "    models = fit2.rfc_fit_models(X, # Molecular data for training\n",
    "                                 Y, # Perceptual data for training\n",
    "                                 Y_imp, # Perceptual data with missing values imputed\n",
    "                                 hp, # Dataframe of hyperparameters for each descriptor\n",
    "                                 n_estimators=N_ESTIMATORS, # Number of decision trees\n",
    "                                 std=(SUBJECT=='StDev'), # Whether to fit models for the standard deviatioif SAVE_MODELS:\n",
    "                                 descriptors=DESCRIPTORS)\n",
    "\n",
    "if SAVE_MODELS:\n",
    "    with open(FULL_MODELS_PATH, 'wb') as f:\n",
    "        pickle.dump((models, list(X)), f) # Store the models and the feature names"
   ]
  },
  {
   "cell_type": "code",
   "execution_count": 39,
   "metadata": {},
   "outputs": [
    {
     "data": {
      "text/plain": [
       "Pleasantness    0.993482\n",
       "Name: R, dtype: float64"
      ]
     },
     "execution_count": 39,
     "metadata": {},
     "output_type": "execute_result"
    }
   ],
   "source": [
    "# Get predicted ratings using the models applied to the test molecular data, restricted to DILUTION\n",
    "# This is an in sample prediction, but only for the molecules in X_test.  \n",
    "predicted_in = fit2.rfc_get_predictions(models, # The models for each descriptor that you just fit or loaded \n",
    "                                        X_test, # Molecular data for testing\n",
    "                                        dilution=DILUTION) # A dilution to restrict testing to\n",
    "\n",
    "fit2.summarize_fit(predicted_in, observed, 'mean', DESCRIPTORS)"
   ]
  },
  {
   "cell_type": "code",
   "execution_count": 40,
   "metadata": {},
   "outputs": [],
   "source": [
    "columns = pd.MultiIndex.from_tuples([(descriptor, kind) for descriptor in DESCRIPTORS \n",
    "                                                        for kind in ['Observed', 'Predicted_IN', 'Predicted_OUT']])\n",
    "summary = pd.DataFrame(index=observed['mean'].index, columns=columns)\n",
    "for d in DESCRIPTORS:\n",
    "    summary.loc[:, (d, 'Observed')] = observed['mean'][d].round(1)\n",
    "    summary.loc[:, (d, 'Predicted_IN')] = predicted_in['mean'][d].round(1)\n",
    "    summary.loc[:, (d, 'Predicted_OUT')] = predicted_out['mean'][d].round(1)"
   ]
  },
  {
   "cell_type": "code",
   "execution_count": 46,
   "metadata": {},
   "outputs": [],
   "source": [
    "summary.to_csv('pleasantness-10-results.csv')"
   ]
  },
  {
   "cell_type": "code",
   "execution_count": 43,
   "metadata": {},
   "outputs": [
    {
     "data": {
      "image/png": "[encoded data removed]",
      "text/plain": [
       "<Figure size 432x288 with 1 Axes>"
      ]
     },
     "metadata": {
      "needs_background": "light"
     },
     "output_type": "display_data"
    }
   ],
   "source": [
    "sns.regplot(x='Observed', y='Predicted_IN', data=summary['Pleasantness'], color='b')\n",
    "plt.plot([0, 100], [0, 100], '--k');"
   ]
  },
  {
   "cell_type": "code",
   "execution_count": 44,
   "metadata": {},
   "outputs": [
    {
     "data": {
      "image/png": "[encoded data removed]",
      "text/plain": [
       "<Figure size 432x288 with 1 Axes>"
      ]
     },
     "metadata": {
      "needs_background": "light"
     },
     "output_type": "display_data"
    }
   ],
   "source": [
    "sns.regplot(x='Observed', y='Predicted_OUT', data=summary['Pleasantness'], color='r')\n",
    "plt.plot([0, 100], [0, 100], '--k');"
   ]
  },
  {
   "cell_type": "code",
   "execution_count": 45,
   "metadata": {},
   "outputs": [
    {
     "data": {
      "text/plain": [
       "'/home/rgerkin/olfaction/olfaction-prediction/opc_python/paper'"
      ]
     },
     "execution_count": 45,
     "metadata": {},
     "output_type": "execute_result"
    }
   ],
   "source": [
    "pwd"
   ]
  },
  {
   "cell_type": "code",
   "execution_count": null,
   "metadata": {},
   "outputs": [],
   "source": []
  }
 ],
 "metadata": {
  "kernelspec": {
   "display_name": "Python 3",
   "language": "python",
   "name": "python3"
  },
  "language_info": {
   "codemirror_mode": {
    "name": "ipython",
    "version": 3
   },
   "file_extension": ".py",
   "mimetype": "text/x-python",
   "name": "python",
   "nbconvert_exporter": "python",
   "pygments_lexer": "ipython3",
   "version": "3.7.4"
  }
 },
 "nbformat": 4,
 "nbformat_minor": 4
}
